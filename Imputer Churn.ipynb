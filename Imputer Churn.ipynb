{
 "cells": [
  {
   "cell_type": "code",
   "execution_count": 1,
   "metadata": {
    "scrolled": true
   },
   "outputs": [
    {
     "data": {
      "text/html": [
       "<div>\n",
       "<style scoped>\n",
       "    .dataframe tbody tr th:only-of-type {\n",
       "        vertical-align: middle;\n",
       "    }\n",
       "\n",
       "    .dataframe tbody tr th {\n",
       "        vertical-align: top;\n",
       "    }\n",
       "\n",
       "    .dataframe thead th {\n",
       "        text-align: right;\n",
       "    }\n",
       "</style>\n",
       "<table border=\"1\" class=\"dataframe\">\n",
       "  <thead>\n",
       "    <tr style=\"text-align: right;\">\n",
       "      <th></th>\n",
       "      <th>customerID</th>\n",
       "      <th>SeniorCitizen</th>\n",
       "      <th>tenure</th>\n",
       "      <th>ServiceCount</th>\n",
       "      <th>Contract</th>\n",
       "      <th>PaperlessBilling</th>\n",
       "      <th>MonthlyCharges</th>\n",
       "      <th>TotalCharges</th>\n",
       "      <th>Churn</th>\n",
       "    </tr>\n",
       "  </thead>\n",
       "  <tbody>\n",
       "    <tr>\n",
       "      <th>0</th>\n",
       "      <td>7590-VHVEG</td>\n",
       "      <td>0</td>\n",
       "      <td>1</td>\n",
       "      <td>2</td>\n",
       "      <td>Month-to-month</td>\n",
       "      <td>Yes</td>\n",
       "      <td>29.85</td>\n",
       "      <td>29.85</td>\n",
       "      <td>No</td>\n",
       "    </tr>\n",
       "    <tr>\n",
       "      <th>1</th>\n",
       "      <td>5575-GNVDE</td>\n",
       "      <td>0</td>\n",
       "      <td>34</td>\n",
       "      <td>4</td>\n",
       "      <td>One year</td>\n",
       "      <td>No</td>\n",
       "      <td>56.95</td>\n",
       "      <td>1889.50</td>\n",
       "      <td>No</td>\n",
       "    </tr>\n",
       "    <tr>\n",
       "      <th>2</th>\n",
       "      <td>3668-QPYBK</td>\n",
       "      <td>0</td>\n",
       "      <td>2</td>\n",
       "      <td>4</td>\n",
       "      <td>Month-to-month</td>\n",
       "      <td>Yes</td>\n",
       "      <td>53.85</td>\n",
       "      <td>108.15</td>\n",
       "      <td>Yes</td>\n",
       "    </tr>\n",
       "    <tr>\n",
       "      <th>3</th>\n",
       "      <td>7795-CFOCW</td>\n",
       "      <td>0</td>\n",
       "      <td>45</td>\n",
       "      <td>4</td>\n",
       "      <td>One year</td>\n",
       "      <td>No</td>\n",
       "      <td>42.30</td>\n",
       "      <td>1840.75</td>\n",
       "      <td>No</td>\n",
       "    </tr>\n",
       "    <tr>\n",
       "      <th>4</th>\n",
       "      <td>9237-HQITU</td>\n",
       "      <td>0</td>\n",
       "      <td>2</td>\n",
       "      <td>2</td>\n",
       "      <td>Month-to-month</td>\n",
       "      <td>Yes</td>\n",
       "      <td>70.70</td>\n",
       "      <td>151.65</td>\n",
       "      <td>Yes</td>\n",
       "    </tr>\n",
       "  </tbody>\n",
       "</table>\n",
       "</div>"
      ],
      "text/plain": [
       "   customerID  SeniorCitizen  tenure  ServiceCount        Contract  \\\n",
       "0  7590-VHVEG              0       1             2  Month-to-month   \n",
       "1  5575-GNVDE              0      34             4        One year   \n",
       "2  3668-QPYBK              0       2             4  Month-to-month   \n",
       "3  7795-CFOCW              0      45             4        One year   \n",
       "4  9237-HQITU              0       2             2  Month-to-month   \n",
       "\n",
       "  PaperlessBilling  MonthlyCharges  TotalCharges Churn  \n",
       "0              Yes           29.85         29.85    No  \n",
       "1               No           56.95       1889.50    No  \n",
       "2              Yes           53.85        108.15   Yes  \n",
       "3               No           42.30       1840.75    No  \n",
       "4              Yes           70.70        151.65   Yes  "
      ]
     },
     "execution_count": 1,
     "metadata": {},
     "output_type": "execute_result"
    }
   ],
   "source": [
    "import pandas as pd\n",
    "import matplotlib.pyplot as plt\n",
    "%matplotlib inline\n",
    "import seaborn as sns\n",
    "import numpy as np\n",
    "df=pd.read_csv('https://raw.githubusercontent.com/srivatsan88/YouTubeLI/master/dataset/churn_data_st.csv')\n",
    "df.head()"
   ]
  },
  {
   "cell_type": "code",
   "execution_count": 2,
   "metadata": {
    "scrolled": false
   },
   "outputs": [
    {
     "data": {
      "text/plain": [
       "customerID           0\n",
       "SeniorCitizen        0\n",
       "tenure               0\n",
       "ServiceCount         0\n",
       "Contract             0\n",
       "PaperlessBilling     0\n",
       "MonthlyCharges       0\n",
       "TotalCharges        28\n",
       "Churn                0\n",
       "dtype: int64"
      ]
     },
     "execution_count": 2,
     "metadata": {},
     "output_type": "execute_result"
    }
   ],
   "source": [
    "df.isnull().sum()"
   ]
  },
  {
   "cell_type": "code",
   "execution_count": 3,
   "metadata": {
    "scrolled": true
   },
   "outputs": [
    {
     "data": {
      "text/plain": [
       "73"
      ]
     },
     "execution_count": 3,
     "metadata": {},
     "output_type": "execute_result"
    }
   ],
   "source": [
    "len(df['tenure'].unique())"
   ]
  },
  {
   "cell_type": "code",
   "execution_count": 5,
   "metadata": {
    "scrolled": true
   },
   "outputs": [
    {
     "name": "stdout",
     "output_type": "stream",
     "text": [
      "The number of missing values is 0.003975578588669601\n"
     ]
    }
   ],
   "source": [
    "for feature in df.columns:\n",
    "    if(df[feature].isnull().sum()>1):\n",
    "        print(\"The number of missing values is {}\".format(df[feature].isnull().sum()/len(df)))"
   ]
  },
  {
   "cell_type": "code",
   "execution_count": 6,
   "metadata": {
    "scrolled": false
   },
   "outputs": [
    {
     "data": {
      "text/plain": [
       "<matplotlib.axes._subplots.AxesSubplot at 0x23a4329a550>"
      ]
     },
     "execution_count": 6,
     "metadata": {},
     "output_type": "execute_result"
    },
    {
     "data": {
      "image/png": "[encoded data removed]",
      "text/plain": [
       "<Figure size 432x288 with 1 Axes>"
      ]
     },
     "metadata": {
      "needs_background": "light"
     },
     "output_type": "display_data"
    }
   ],
   "source": [
    "sns.boxplot(x=df['Churn'],y=df['TotalCharges'])"
   ]
  },
  {
   "cell_type": "code",
   "execution_count": 7,
   "metadata": {
    "scrolled": false
   },
   "outputs": [
    {
     "data": {
      "text/html": [
       "<div>\n",
       "<style scoped>\n",
       "    .dataframe tbody tr th:only-of-type {\n",
       "        vertical-align: middle;\n",
       "    }\n",
       "\n",
       "    .dataframe tbody tr th {\n",
       "        vertical-align: top;\n",
       "    }\n",
       "\n",
       "    .dataframe thead th {\n",
       "        text-align: right;\n",
       "    }\n",
       "</style>\n",
       "<table border=\"1\" class=\"dataframe\">\n",
       "  <thead>\n",
       "    <tr style=\"text-align: right;\">\n",
       "      <th></th>\n",
       "      <th>Churn</th>\n",
       "      <th>sum</th>\n",
       "    </tr>\n",
       "  </thead>\n",
       "  <tbody>\n",
       "    <tr>\n",
       "      <th>0</th>\n",
       "      <td>No</td>\n",
       "      <td>13161545.0</td>\n",
       "    </tr>\n",
       "    <tr>\n",
       "      <th>1</th>\n",
       "      <td>Yes</td>\n",
       "      <td>2862926.9</td>\n",
       "    </tr>\n",
       "  </tbody>\n",
       "</table>\n",
       "</div>"
      ],
      "text/plain": [
       "  Churn         sum\n",
       "0    No  13161545.0\n",
       "1   Yes   2862926.9"
      ]
     },
     "execution_count": 7,
     "metadata": {},
     "output_type": "execute_result"
    }
   ],
   "source": [
    "df1=df.groupby('Churn')['TotalCharges'].agg(['sum'])\n",
    "df1=df1.reset_index()\n",
    "df1"
   ]
  },
  {
   "cell_type": "code",
   "execution_count": 8,
   "metadata": {},
   "outputs": [],
   "source": [
    "df1=df[df['Churn']=='Yes']"
   ]
  },
  {
   "cell_type": "code",
   "execution_count": 10,
   "metadata": {
    "scrolled": true
   },
   "outputs": [
    {
     "data": {
      "text/html": [
       "<div>\n",
       "<style scoped>\n",
       "    .dataframe tbody tr th:only-of-type {\n",
       "        vertical-align: middle;\n",
       "    }\n",
       "\n",
       "    .dataframe tbody tr th {\n",
       "        vertical-align: top;\n",
       "    }\n",
       "\n",
       "    .dataframe thead th {\n",
       "        text-align: right;\n",
       "    }\n",
       "</style>\n",
       "<table border=\"1\" class=\"dataframe\">\n",
       "  <thead>\n",
       "    <tr style=\"text-align: right;\">\n",
       "      <th></th>\n",
       "      <th>customerID</th>\n",
       "      <th>SeniorCitizen</th>\n",
       "      <th>tenure</th>\n",
       "      <th>ServiceCount</th>\n",
       "      <th>Contract</th>\n",
       "      <th>PaperlessBilling</th>\n",
       "      <th>MonthlyCharges</th>\n",
       "      <th>TotalCharges</th>\n",
       "      <th>Churn</th>\n",
       "    </tr>\n",
       "  </thead>\n",
       "  <tbody>\n",
       "    <tr>\n",
       "      <th>488</th>\n",
       "      <td>4472-LVYGI</td>\n",
       "      <td>0</td>\n",
       "      <td>0</td>\n",
       "      <td>5</td>\n",
       "      <td>Two year</td>\n",
       "      <td>Yes</td>\n",
       "      <td>52.55</td>\n",
       "      <td>NaN</td>\n",
       "      <td>No</td>\n",
       "    </tr>\n",
       "    <tr>\n",
       "      <th>753</th>\n",
       "      <td>3115-CZMZD</td>\n",
       "      <td>0</td>\n",
       "      <td>0</td>\n",
       "      <td>7</td>\n",
       "      <td>Two year</td>\n",
       "      <td>No</td>\n",
       "      <td>20.25</td>\n",
       "      <td>NaN</td>\n",
       "      <td>No</td>\n",
       "    </tr>\n",
       "    <tr>\n",
       "      <th>936</th>\n",
       "      <td>5709-LVOEQ</td>\n",
       "      <td>0</td>\n",
       "      <td>0</td>\n",
       "      <td>7</td>\n",
       "      <td>Two year</td>\n",
       "      <td>No</td>\n",
       "      <td>80.85</td>\n",
       "      <td>NaN</td>\n",
       "      <td>No</td>\n",
       "    </tr>\n",
       "    <tr>\n",
       "      <th>1082</th>\n",
       "      <td>4367-NUYAO</td>\n",
       "      <td>0</td>\n",
       "      <td>0</td>\n",
       "      <td>8</td>\n",
       "      <td>Two year</td>\n",
       "      <td>No</td>\n",
       "      <td>25.75</td>\n",
       "      <td>NaN</td>\n",
       "      <td>No</td>\n",
       "    </tr>\n",
       "    <tr>\n",
       "      <th>1340</th>\n",
       "      <td>1371-DWPAZ</td>\n",
       "      <td>0</td>\n",
       "      <td>0</td>\n",
       "      <td>6</td>\n",
       "      <td>Two year</td>\n",
       "      <td>No</td>\n",
       "      <td>56.05</td>\n",
       "      <td>NaN</td>\n",
       "      <td>No</td>\n",
       "    </tr>\n",
       "    <tr>\n",
       "      <th>3331</th>\n",
       "      <td>7644-OMVMY</td>\n",
       "      <td>0</td>\n",
       "      <td>0</td>\n",
       "      <td>7</td>\n",
       "      <td>Two year</td>\n",
       "      <td>No</td>\n",
       "      <td>19.85</td>\n",
       "      <td>NaN</td>\n",
       "      <td>No</td>\n",
       "    </tr>\n",
       "    <tr>\n",
       "      <th>3826</th>\n",
       "      <td>3213-VVOLG</td>\n",
       "      <td>0</td>\n",
       "      <td>0</td>\n",
       "      <td>8</td>\n",
       "      <td>Two year</td>\n",
       "      <td>No</td>\n",
       "      <td>25.35</td>\n",
       "      <td>NaN</td>\n",
       "      <td>No</td>\n",
       "    </tr>\n",
       "    <tr>\n",
       "      <th>4380</th>\n",
       "      <td>2520-SGTTA</td>\n",
       "      <td>0</td>\n",
       "      <td>0</td>\n",
       "      <td>7</td>\n",
       "      <td>Two year</td>\n",
       "      <td>No</td>\n",
       "      <td>20.00</td>\n",
       "      <td>NaN</td>\n",
       "      <td>No</td>\n",
       "    </tr>\n",
       "    <tr>\n",
       "      <th>5218</th>\n",
       "      <td>2923-ARZLG</td>\n",
       "      <td>0</td>\n",
       "      <td>0</td>\n",
       "      <td>7</td>\n",
       "      <td>One year</td>\n",
       "      <td>Yes</td>\n",
       "      <td>19.70</td>\n",
       "      <td>NaN</td>\n",
       "      <td>No</td>\n",
       "    </tr>\n",
       "    <tr>\n",
       "      <th>6670</th>\n",
       "      <td>4075-WKNIU</td>\n",
       "      <td>0</td>\n",
       "      <td>0</td>\n",
       "      <td>7</td>\n",
       "      <td>Two year</td>\n",
       "      <td>No</td>\n",
       "      <td>73.35</td>\n",
       "      <td>NaN</td>\n",
       "      <td>No</td>\n",
       "    </tr>\n",
       "    <tr>\n",
       "      <th>6754</th>\n",
       "      <td>2775-SEFEE</td>\n",
       "      <td>0</td>\n",
       "      <td>0</td>\n",
       "      <td>6</td>\n",
       "      <td>Two year</td>\n",
       "      <td>Yes</td>\n",
       "      <td>61.90</td>\n",
       "      <td>NaN</td>\n",
       "      <td>No</td>\n",
       "    </tr>\n",
       "  </tbody>\n",
       "</table>\n",
       "</div>"
      ],
      "text/plain": [
       "      customerID  SeniorCitizen  tenure  ServiceCount  Contract  \\\n",
       "488   4472-LVYGI              0       0             5  Two year   \n",
       "753   3115-CZMZD              0       0             7  Two year   \n",
       "936   5709-LVOEQ              0       0             7  Two year   \n",
       "1082  4367-NUYAO              0       0             8  Two year   \n",
       "1340  1371-DWPAZ              0       0             6  Two year   \n",
       "3331  7644-OMVMY              0       0             7  Two year   \n",
       "3826  3213-VVOLG              0       0             8  Two year   \n",
       "4380  2520-SGTTA              0       0             7  Two year   \n",
       "5218  2923-ARZLG              0       0             7  One year   \n",
       "6670  4075-WKNIU              0       0             7  Two year   \n",
       "6754  2775-SEFEE              0       0             6  Two year   \n",
       "\n",
       "     PaperlessBilling  MonthlyCharges  TotalCharges Churn  \n",
       "488               Yes           52.55           NaN    No  \n",
       "753                No           20.25           NaN    No  \n",
       "936                No           80.85           NaN    No  \n",
       "1082               No           25.75           NaN    No  \n",
       "1340               No           56.05           NaN    No  \n",
       "3331               No           19.85           NaN    No  \n",
       "3826               No           25.35           NaN    No  \n",
       "4380               No           20.00           NaN    No  \n",
       "5218              Yes           19.70           NaN    No  \n",
       "6670               No           73.35           NaN    No  \n",
       "6754              Yes           61.90           NaN    No  "
      ]
     },
     "execution_count": 10,
     "metadata": {},
     "output_type": "execute_result"
    }
   ],
   "source": [
    "df2=df[df['tenure']==0]\n",
    "df2"
   ]
  },
  {
   "cell_type": "code",
   "execution_count": 15,
   "metadata": {
    "scrolled": true
   },
   "outputs": [
    {
     "data": {
      "text/html": [
       "<div>\n",
       "<style scoped>\n",
       "    .dataframe tbody tr th:only-of-type {\n",
       "        vertical-align: middle;\n",
       "    }\n",
       "\n",
       "    .dataframe tbody tr th {\n",
       "        vertical-align: top;\n",
       "    }\n",
       "\n",
       "    .dataframe thead th {\n",
       "        text-align: right;\n",
       "    }\n",
       "</style>\n",
       "<table border=\"1\" class=\"dataframe\">\n",
       "  <thead>\n",
       "    <tr style=\"text-align: right;\">\n",
       "      <th></th>\n",
       "      <th>customerID</th>\n",
       "      <th>SeniorCitizen</th>\n",
       "      <th>tenure</th>\n",
       "      <th>ServiceCount</th>\n",
       "      <th>Contract</th>\n",
       "      <th>PaperlessBilling</th>\n",
       "      <th>MonthlyCharges</th>\n",
       "      <th>TotalCharges</th>\n",
       "      <th>Churn</th>\n",
       "    </tr>\n",
       "  </thead>\n",
       "  <tbody>\n",
       "    <tr>\n",
       "      <th>488</th>\n",
       "      <td>4472-LVYGI</td>\n",
       "      <td>0</td>\n",
       "      <td>0</td>\n",
       "      <td>5</td>\n",
       "      <td>Two year</td>\n",
       "      <td>Yes</td>\n",
       "      <td>52.55</td>\n",
       "      <td>NaN</td>\n",
       "      <td>No</td>\n",
       "    </tr>\n",
       "    <tr>\n",
       "      <th>699</th>\n",
       "      <td>8338-QIUNR</td>\n",
       "      <td>0</td>\n",
       "      <td>72</td>\n",
       "      <td>6</td>\n",
       "      <td>Two year</td>\n",
       "      <td>Yes</td>\n",
       "      <td>66.50</td>\n",
       "      <td>NaN</td>\n",
       "      <td>No</td>\n",
       "    </tr>\n",
       "    <tr>\n",
       "      <th>753</th>\n",
       "      <td>3115-CZMZD</td>\n",
       "      <td>0</td>\n",
       "      <td>0</td>\n",
       "      <td>7</td>\n",
       "      <td>Two year</td>\n",
       "      <td>No</td>\n",
       "      <td>20.25</td>\n",
       "      <td>NaN</td>\n",
       "      <td>No</td>\n",
       "    </tr>\n",
       "    <tr>\n",
       "      <th>936</th>\n",
       "      <td>5709-LVOEQ</td>\n",
       "      <td>0</td>\n",
       "      <td>0</td>\n",
       "      <td>7</td>\n",
       "      <td>Two year</td>\n",
       "      <td>No</td>\n",
       "      <td>80.85</td>\n",
       "      <td>NaN</td>\n",
       "      <td>No</td>\n",
       "    </tr>\n",
       "    <tr>\n",
       "      <th>939</th>\n",
       "      <td>0347-UBKUZ</td>\n",
       "      <td>0</td>\n",
       "      <td>15</td>\n",
       "      <td>7</td>\n",
       "      <td>Month-to-month</td>\n",
       "      <td>No</td>\n",
       "      <td>19.90</td>\n",
       "      <td>NaN</td>\n",
       "      <td>No</td>\n",
       "    </tr>\n",
       "    <tr>\n",
       "      <th>1037</th>\n",
       "      <td>4581-LNWUM</td>\n",
       "      <td>0</td>\n",
       "      <td>13</td>\n",
       "      <td>4</td>\n",
       "      <td>Month-to-month</td>\n",
       "      <td>No</td>\n",
       "      <td>49.15</td>\n",
       "      <td>NaN</td>\n",
       "      <td>No</td>\n",
       "    </tr>\n",
       "    <tr>\n",
       "      <th>1082</th>\n",
       "      <td>4367-NUYAO</td>\n",
       "      <td>0</td>\n",
       "      <td>0</td>\n",
       "      <td>8</td>\n",
       "      <td>Two year</td>\n",
       "      <td>No</td>\n",
       "      <td>25.75</td>\n",
       "      <td>NaN</td>\n",
       "      <td>No</td>\n",
       "    </tr>\n",
       "    <tr>\n",
       "      <th>1340</th>\n",
       "      <td>1371-DWPAZ</td>\n",
       "      <td>0</td>\n",
       "      <td>0</td>\n",
       "      <td>6</td>\n",
       "      <td>Two year</td>\n",
       "      <td>No</td>\n",
       "      <td>56.05</td>\n",
       "      <td>NaN</td>\n",
       "      <td>No</td>\n",
       "    </tr>\n",
       "    <tr>\n",
       "      <th>1541</th>\n",
       "      <td>2429-AYKKO</td>\n",
       "      <td>0</td>\n",
       "      <td>72</td>\n",
       "      <td>7</td>\n",
       "      <td>Two year</td>\n",
       "      <td>No</td>\n",
       "      <td>19.85</td>\n",
       "      <td>NaN</td>\n",
       "      <td>No</td>\n",
       "    </tr>\n",
       "    <tr>\n",
       "      <th>1914</th>\n",
       "      <td>5356-CSVSQ</td>\n",
       "      <td>0</td>\n",
       "      <td>3</td>\n",
       "      <td>5</td>\n",
       "      <td>Month-to-month</td>\n",
       "      <td>No</td>\n",
       "      <td>64.60</td>\n",
       "      <td>NaN</td>\n",
       "      <td>No</td>\n",
       "    </tr>\n",
       "    <tr>\n",
       "      <th>2593</th>\n",
       "      <td>0962-CQPWQ</td>\n",
       "      <td>0</td>\n",
       "      <td>62</td>\n",
       "      <td>7</td>\n",
       "      <td>Two year</td>\n",
       "      <td>No</td>\n",
       "      <td>20.30</td>\n",
       "      <td>NaN</td>\n",
       "      <td>No</td>\n",
       "    </tr>\n",
       "    <tr>\n",
       "      <th>3314</th>\n",
       "      <td>2402-TAIRZ</td>\n",
       "      <td>0</td>\n",
       "      <td>37</td>\n",
       "      <td>4</td>\n",
       "      <td>One year</td>\n",
       "      <td>No</td>\n",
       "      <td>80.05</td>\n",
       "      <td>NaN</td>\n",
       "      <td>No</td>\n",
       "    </tr>\n",
       "    <tr>\n",
       "      <th>3331</th>\n",
       "      <td>7644-OMVMY</td>\n",
       "      <td>0</td>\n",
       "      <td>0</td>\n",
       "      <td>7</td>\n",
       "      <td>Two year</td>\n",
       "      <td>No</td>\n",
       "      <td>19.85</td>\n",
       "      <td>NaN</td>\n",
       "      <td>No</td>\n",
       "    </tr>\n",
       "    <tr>\n",
       "      <th>3826</th>\n",
       "      <td>3213-VVOLG</td>\n",
       "      <td>0</td>\n",
       "      <td>0</td>\n",
       "      <td>8</td>\n",
       "      <td>Two year</td>\n",
       "      <td>No</td>\n",
       "      <td>25.35</td>\n",
       "      <td>NaN</td>\n",
       "      <td>No</td>\n",
       "    </tr>\n",
       "    <tr>\n",
       "      <th>4036</th>\n",
       "      <td>4054-CUMIA</td>\n",
       "      <td>0</td>\n",
       "      <td>18</td>\n",
       "      <td>7</td>\n",
       "      <td>Month-to-month</td>\n",
       "      <td>Yes</td>\n",
       "      <td>20.25</td>\n",
       "      <td>NaN</td>\n",
       "      <td>No</td>\n",
       "    </tr>\n",
       "    <tr>\n",
       "      <th>4043</th>\n",
       "      <td>3308-JSGML</td>\n",
       "      <td>1</td>\n",
       "      <td>59</td>\n",
       "      <td>6</td>\n",
       "      <td>Two year</td>\n",
       "      <td>Yes</td>\n",
       "      <td>64.05</td>\n",
       "      <td>NaN</td>\n",
       "      <td>No</td>\n",
       "    </tr>\n",
       "    <tr>\n",
       "      <th>4158</th>\n",
       "      <td>8874-EJNSR</td>\n",
       "      <td>0</td>\n",
       "      <td>39</td>\n",
       "      <td>8</td>\n",
       "      <td>Two year</td>\n",
       "      <td>No</td>\n",
       "      <td>25.20</td>\n",
       "      <td>NaN</td>\n",
       "      <td>No</td>\n",
       "    </tr>\n",
       "    <tr>\n",
       "      <th>4380</th>\n",
       "      <td>2520-SGTTA</td>\n",
       "      <td>0</td>\n",
       "      <td>0</td>\n",
       "      <td>7</td>\n",
       "      <td>Two year</td>\n",
       "      <td>No</td>\n",
       "      <td>20.00</td>\n",
       "      <td>NaN</td>\n",
       "      <td>No</td>\n",
       "    </tr>\n",
       "    <tr>\n",
       "      <th>4816</th>\n",
       "      <td>5906-DVAPM</td>\n",
       "      <td>0</td>\n",
       "      <td>55</td>\n",
       "      <td>7</td>\n",
       "      <td>One year</td>\n",
       "      <td>Yes</td>\n",
       "      <td>75.00</td>\n",
       "      <td>NaN</td>\n",
       "      <td>No</td>\n",
       "    </tr>\n",
       "    <tr>\n",
       "      <th>4891</th>\n",
       "      <td>8404-GFGCZ</td>\n",
       "      <td>0</td>\n",
       "      <td>4</td>\n",
       "      <td>5</td>\n",
       "      <td>Month-to-month</td>\n",
       "      <td>No</td>\n",
       "      <td>65.60</td>\n",
       "      <td>NaN</td>\n",
       "      <td>No</td>\n",
       "    </tr>\n",
       "    <tr>\n",
       "      <th>5218</th>\n",
       "      <td>2923-ARZLG</td>\n",
       "      <td>0</td>\n",
       "      <td>0</td>\n",
       "      <td>7</td>\n",
       "      <td>One year</td>\n",
       "      <td>Yes</td>\n",
       "      <td>19.70</td>\n",
       "      <td>NaN</td>\n",
       "      <td>No</td>\n",
       "    </tr>\n",
       "    <tr>\n",
       "      <th>5392</th>\n",
       "      <td>2162-FRZAA</td>\n",
       "      <td>0</td>\n",
       "      <td>63</td>\n",
       "      <td>4</td>\n",
       "      <td>Two year</td>\n",
       "      <td>No</td>\n",
       "      <td>39.35</td>\n",
       "      <td>NaN</td>\n",
       "      <td>No</td>\n",
       "    </tr>\n",
       "    <tr>\n",
       "      <th>5592</th>\n",
       "      <td>5063-IUOKK</td>\n",
       "      <td>0</td>\n",
       "      <td>13</td>\n",
       "      <td>7</td>\n",
       "      <td>Two year</td>\n",
       "      <td>No</td>\n",
       "      <td>19.75</td>\n",
       "      <td>NaN</td>\n",
       "      <td>No</td>\n",
       "    </tr>\n",
       "    <tr>\n",
       "      <th>6363</th>\n",
       "      <td>8778-LMWTJ</td>\n",
       "      <td>0</td>\n",
       "      <td>9</td>\n",
       "      <td>3</td>\n",
       "      <td>Month-to-month</td>\n",
       "      <td>Yes</td>\n",
       "      <td>74.85</td>\n",
       "      <td>NaN</td>\n",
       "      <td>No</td>\n",
       "    </tr>\n",
       "    <tr>\n",
       "      <th>6472</th>\n",
       "      <td>1150-FTQGN</td>\n",
       "      <td>0</td>\n",
       "      <td>60</td>\n",
       "      <td>6</td>\n",
       "      <td>One year</td>\n",
       "      <td>No</td>\n",
       "      <td>94.15</td>\n",
       "      <td>NaN</td>\n",
       "      <td>No</td>\n",
       "    </tr>\n",
       "    <tr>\n",
       "      <th>6584</th>\n",
       "      <td>6340-DACFT</td>\n",
       "      <td>0</td>\n",
       "      <td>50</td>\n",
       "      <td>7</td>\n",
       "      <td>Two year</td>\n",
       "      <td>No</td>\n",
       "      <td>20.55</td>\n",
       "      <td>NaN</td>\n",
       "      <td>No</td>\n",
       "    </tr>\n",
       "    <tr>\n",
       "      <th>6670</th>\n",
       "      <td>4075-WKNIU</td>\n",
       "      <td>0</td>\n",
       "      <td>0</td>\n",
       "      <td>7</td>\n",
       "      <td>Two year</td>\n",
       "      <td>No</td>\n",
       "      <td>73.35</td>\n",
       "      <td>NaN</td>\n",
       "      <td>No</td>\n",
       "    </tr>\n",
       "    <tr>\n",
       "      <th>6754</th>\n",
       "      <td>2775-SEFEE</td>\n",
       "      <td>0</td>\n",
       "      <td>0</td>\n",
       "      <td>6</td>\n",
       "      <td>Two year</td>\n",
       "      <td>Yes</td>\n",
       "      <td>61.90</td>\n",
       "      <td>NaN</td>\n",
       "      <td>No</td>\n",
       "    </tr>\n",
       "  </tbody>\n",
       "</table>\n",
       "</div>"
      ],
      "text/plain": [
       "      customerID  SeniorCitizen  tenure  ServiceCount        Contract  \\\n",
       "488   4472-LVYGI              0       0             5        Two year   \n",
       "699   8338-QIUNR              0      72             6        Two year   \n",
       "753   3115-CZMZD              0       0             7        Two year   \n",
       "936   5709-LVOEQ              0       0             7        Two year   \n",
       "939   0347-UBKUZ              0      15             7  Month-to-month   \n",
       "1037  4581-LNWUM              0      13             4  Month-to-month   \n",
       "1082  4367-NUYAO              0       0             8        Two year   \n",
       "1340  1371-DWPAZ              0       0             6        Two year   \n",
       "1541  2429-AYKKO              0      72             7        Two year   \n",
       "1914  5356-CSVSQ              0       3             5  Month-to-month   \n",
       "2593  0962-CQPWQ              0      62             7        Two year   \n",
       "3314  2402-TAIRZ              0      37             4        One year   \n",
       "3331  7644-OMVMY              0       0             7        Two year   \n",
       "3826  3213-VVOLG              0       0             8        Two year   \n",
       "4036  4054-CUMIA              0      18             7  Month-to-month   \n",
       "4043  3308-JSGML              1      59             6        Two year   \n",
       "4158  8874-EJNSR              0      39             8        Two year   \n",
       "4380  2520-SGTTA              0       0             7        Two year   \n",
       "4816  5906-DVAPM              0      55             7        One year   \n",
       "4891  8404-GFGCZ              0       4             5  Month-to-month   \n",
       "5218  2923-ARZLG              0       0             7        One year   \n",
       "5392  2162-FRZAA              0      63             4        Two year   \n",
       "5592  5063-IUOKK              0      13             7        Two year   \n",
       "6363  8778-LMWTJ              0       9             3  Month-to-month   \n",
       "6472  1150-FTQGN              0      60             6        One year   \n",
       "6584  6340-DACFT              0      50             7        Two year   \n",
       "6670  4075-WKNIU              0       0             7        Two year   \n",
       "6754  2775-SEFEE              0       0             6        Two year   \n",
       "\n",
       "     PaperlessBilling  MonthlyCharges  TotalCharges Churn  \n",
       "488               Yes           52.55           NaN    No  \n",
       "699               Yes           66.50           NaN    No  \n",
       "753                No           20.25           NaN    No  \n",
       "936                No           80.85           NaN    No  \n",
       "939                No           19.90           NaN    No  \n",
       "1037               No           49.15           NaN    No  \n",
       "1082               No           25.75           NaN    No  \n",
       "1340               No           56.05           NaN    No  \n",
       "1541               No           19.85           NaN    No  \n",
       "1914               No           64.60           NaN    No  \n",
       "2593               No           20.30           NaN    No  \n",
       "3314               No           80.05           NaN    No  \n",
       "3331               No           19.85           NaN    No  \n",
       "3826               No           25.35           NaN    No  \n",
       "4036              Yes           20.25           NaN    No  \n",
       "4043              Yes           64.05           NaN    No  \n",
       "4158               No           25.20           NaN    No  \n",
       "4380               No           20.00           NaN    No  \n",
       "4816              Yes           75.00           NaN    No  \n",
       "4891               No           65.60           NaN    No  \n",
       "5218              Yes           19.70           NaN    No  \n",
       "5392               No           39.35           NaN    No  \n",
       "5592               No           19.75           NaN    No  \n",
       "6363              Yes           74.85           NaN    No  \n",
       "6472               No           94.15           NaN    No  \n",
       "6584               No           20.55           NaN    No  \n",
       "6670               No           73.35           NaN    No  \n",
       "6754              Yes           61.90           NaN    No  "
      ]
     },
     "execution_count": 15,
     "metadata": {},
     "output_type": "execute_result"
    }
   ],
   "source": [
    "df3=df[df['TotalCharges'].isnull()]\n",
    "df3"
   ]
  },
  {
   "cell_type": "code",
   "execution_count": 22,
   "metadata": {
    "scrolled": true
   },
   "outputs": [
    {
     "data": {
      "text/plain": [
       "<matplotlib.axes._subplots.AxesSubplot at 0x23a437a09b0>"
      ]
     },
     "execution_count": 22,
     "metadata": {},
     "output_type": "execute_result"
    },
    {
     "data": {
      "image/png": "[encoded data removed]",
      "text/plain": [
       "<Figure size 432x288 with 1 Axes>"
      ]
     },
     "metadata": {
      "needs_background": "light"
     },
     "output_type": "display_data"
    }
   ],
   "source": [
    "sns.countplot(x=df['Contract'],hue=df['Churn'])"
   ]
  },
  {
   "cell_type": "code",
   "execution_count": 23,
   "metadata": {
    "scrolled": true
   },
   "outputs": [
    {
     "data": {
      "text/plain": [
       "<matplotlib.axes._subplots.AxesSubplot at 0x23a437facc0>"
      ]
     },
     "execution_count": 23,
     "metadata": {},
     "output_type": "execute_result"
    },
    {
     "data": {
      "image/png": "[encoded data removed]",
      "text/plain": [
       "<Figure size 432x288 with 1 Axes>"
      ]
     },
     "metadata": {
      "needs_background": "light"
     },
     "output_type": "display_data"
    }
   ],
   "source": [
    "sns.countplot(x=df['PaperlessBilling'],hue=df['Churn'])"
   ]
  },
  {
   "cell_type": "code",
   "execution_count": 24,
   "metadata": {},
   "outputs": [
    {
     "data": {
      "text/plain": [
       "<matplotlib.axes._subplots.AxesSubplot at 0x23a43858748>"
      ]
     },
     "execution_count": 24,
     "metadata": {},
     "output_type": "execute_result"
    },
    {
     "data": {
      "image/png": "[encoded data removed]",
      "text/plain": [
       "<Figure size 432x288 with 1 Axes>"
      ]
     },
     "metadata": {
      "needs_background": "light"
     },
     "output_type": "display_data"
    }
   ],
   "source": [
    "sns.countplot(x=df['SeniorCitizen'],hue=df['Churn'])"
   ]
  },
  {
   "cell_type": "code",
   "execution_count": 29,
   "metadata": {},
   "outputs": [
    {
     "name": "stderr",
     "output_type": "stream",
     "text": [
      "C:\\Users\\udays\\AppData\\Local\\conda\\conda\\envs\\deeplearning\\lib\\site-packages\\scipy\\stats\\stats.py:1713: FutureWarning: Using a non-tuple sequence for multidimensional indexing is deprecated; use `arr[tuple(seq)]` instead of `arr[seq]`. In the future this will be interpreted as an array index, `arr[np.array(seq)]`, which will result either in an error or a different result.\n",
      "  return np.add.reduce(sorted[indexer] * weights, axis=axis) / sumval\n"
     ]
    },
    {
     "data": {
      "image/png": "[encoded data removed]",
      "text/plain": [
       "<Figure size 432x288 with 1 Axes>"
      ]
     },
     "metadata": {
      "needs_background": "light"
     },
     "output_type": "display_data"
    }
   ],
   "source": [
    "sns.barplot(x=df1['Churn'],y=df1['TotalCharges'])\n",
    "plt.show()"
   ]
  },
  {
   "cell_type": "code",
   "execution_count": 6,
   "metadata": {},
   "outputs": [
    {
     "data": {
      "text/html": [
       "<div>\n",
       "<style scoped>\n",
       "    .dataframe tbody tr th:only-of-type {\n",
       "        vertical-align: middle;\n",
       "    }\n",
       "\n",
       "    .dataframe tbody tr th {\n",
       "        vertical-align: top;\n",
       "    }\n",
       "\n",
       "    .dataframe thead th {\n",
       "        text-align: right;\n",
       "    }\n",
       "</style>\n",
       "<table border=\"1\" class=\"dataframe\">\n",
       "  <thead>\n",
       "    <tr style=\"text-align: right;\">\n",
       "      <th></th>\n",
       "      <th>TotalCharges</th>\n",
       "    </tr>\n",
       "  </thead>\n",
       "  <tbody>\n",
       "    <tr>\n",
       "      <th>2</th>\n",
       "      <td>108.15</td>\n",
       "    </tr>\n",
       "    <tr>\n",
       "      <th>4</th>\n",
       "      <td>151.65</td>\n",
       "    </tr>\n",
       "    <tr>\n",
       "      <th>5</th>\n",
       "      <td>820.50</td>\n",
       "    </tr>\n",
       "    <tr>\n",
       "      <th>8</th>\n",
       "      <td>3046.05</td>\n",
       "    </tr>\n",
       "    <tr>\n",
       "      <th>13</th>\n",
       "      <td>5036.30</td>\n",
       "    </tr>\n",
       "  </tbody>\n",
       "</table>\n",
       "</div>"
      ],
      "text/plain": [
       "    TotalCharges\n",
       "2         108.15\n",
       "4         151.65\n",
       "5         820.50\n",
       "8        3046.05\n",
       "13       5036.30"
      ]
     },
     "execution_count": 6,
     "metadata": {},
     "output_type": "execute_result"
    }
   ],
   "source": [
    "\n",
    "df1=pd.DataFrame(df1['TotalCharges'])\n",
    "df1.head()"
   ]
  },
  {
   "cell_type": "code",
   "execution_count": 7,
   "metadata": {},
   "outputs": [],
   "source": [
    "df1.fillna(0,inplace=True)"
   ]
  },
  {
   "cell_type": "code",
   "execution_count": 8,
   "metadata": {},
   "outputs": [
    {
     "data": {
      "text/plain": [
       "pandas.core.frame.DataFrame"
      ]
     },
     "execution_count": 8,
     "metadata": {},
     "output_type": "execute_result"
    }
   ],
   "source": [
    "type(df1)"
   ]
  },
  {
   "cell_type": "code",
   "execution_count": 9,
   "metadata": {},
   "outputs": [
    {
     "data": {
      "text/plain": [
       "<matplotlib.axes._subplots.AxesSubplot at 0x27c54a29710>"
      ]
     },
     "execution_count": 9,
     "metadata": {},
     "output_type": "execute_result"
    },
    {
     "data": {
      "image/png": "[encoded data removed]",
      "text/plain": [
       "<Figure size 432x288 with 1 Axes>"
      ]
     },
     "metadata": {
      "needs_background": "light"
     },
     "output_type": "display_data"
    }
   ],
   "source": [
    "sns.boxplot(df1['TotalCharges'],orient=\"v\")"
   ]
  },
  {
   "cell_type": "code",
   "execution_count": 10,
   "metadata": {
    "scrolled": true
   },
   "outputs": [
    {
     "name": "stdout",
     "output_type": "stream",
     "text": [
      "defaultdict(<class 'list'>, {'TotalCharges': [7611.85, 6603.0, 7007.6, 6396.45, 6786.4, 6985.65, 5794.65, 6125.4, 6017.65, 7250.15, 6413.65, 6215.35, 7532.15, 6383.35, 6127.6, 6448.05, 8127.6, 5961.1, 7133.25, 6254.2, 6547.7, 6873.75, 5769.75, 6710.5, 5918.8, 6615.15, 6937.95, 5940.85, 5885.4, 6287.25, 7040.85, 6056.15, 7482.1, 6941.2, 6822.15, 7318.2, 5893.15, 6465.0, 5742.9, 6281.45, 6341.45, 6890.0, 6010.05, 7101.5, 6283.3, 6143.15, 7690.9, 7372.65, 5763.3, 5685.8, 7689.95, 7534.65, 7156.2, 5921.35, 6110.2, 5638.3, 6144.55, 8109.8, 5812.6, 6851.65, 6137.0, 5743.05, 6871.9, 6529.25, 6975.25, 7446.9, 6440.25, 8684.8, 7262.0, 5688.05, 6979.8, 6405.0, 6145.85, 6981.35, 7804.15, 7220.35, 5639.05, 6903.1, 6428.4, 6252.9, 6579.05, 7856.0, 6205.5, 7674.55, 7548.1, 6581.9, 5785.5, 7176.55, 7299.65, 7491.75, 7723.9, 6039.9, 5916.45, 7752.3, 6585.35, 5643.4, 6441.4, 5769.6, 7723.7, 7348.8, 6219.6, 7968.85, 7432.05, 5746.15, 6876.05, 6014.85, 6859.5, 6418.9, 6886.25]})\n"
     ]
    }
   ],
   "source": [
    "from pandas.api.types import is_float_dtype\n",
    "from collections import defaultdict\n",
    "#from scipy.stats import iqr\n",
    "outliers=defaultdict(list)\n",
    "num_list=list()\n",
    "for col in df1.columns:\n",
    "    if(is_float_dtype(df1[col])):\n",
    "        num_list.append(col)\n",
    "        Q1 = df1[col].quantile(0.25)\n",
    "        Q3 = df1[col].quantile(0.75)\n",
    "        IQR = Q3 - Q1\n",
    "        #q75, q25 = iqr(df[col])\n",
    "        #iqr = q75 - q25\n",
    "        #print(col, \":\" ,IQR)\n",
    "        #for i in range(0,len(num_list)+1):\n",
    "        for index, row in df1.iterrows():\n",
    "            if((row[col]<(Q1-1.5*IQR)) or (row[col]>(Q3+1.5*IQR))):\n",
    "                    outliers[col].append(row[col])\n",
    "                #else:\n",
    "                    \n",
    "print(outliers)"
   ]
  },
  {
   "cell_type": "code",
   "execution_count": 11,
   "metadata": {},
   "outputs": [
    {
     "name": "stdout",
     "output_type": "stream",
     "text": [
      "7611.85\n",
      "6603.0\n",
      "7007.6\n",
      "6396.45\n",
      "6786.4\n",
      "6985.65\n",
      "5794.65\n",
      "6125.4\n",
      "6017.65\n",
      "7250.15\n",
      "6413.65\n",
      "6215.35\n",
      "7532.15\n",
      "6383.35\n",
      "6127.6\n",
      "6448.05\n",
      "8127.6\n",
      "5961.1\n",
      "7133.25\n",
      "6254.2\n",
      "6547.7\n",
      "6873.75\n",
      "5769.75\n",
      "6710.5\n",
      "5918.8\n",
      "6615.15\n",
      "6937.95\n",
      "5940.85\n",
      "5885.4\n",
      "6287.25\n",
      "7040.85\n",
      "6056.15\n",
      "7482.1\n",
      "6941.2\n",
      "6822.15\n",
      "7318.2\n",
      "5893.15\n",
      "6465.0\n",
      "5742.9\n",
      "6281.45\n",
      "6341.45\n",
      "6890.0\n",
      "6010.05\n",
      "7101.5\n",
      "6283.3\n",
      "6143.15\n",
      "7690.9\n",
      "7372.65\n",
      "5763.3\n",
      "5685.8\n",
      "7689.95\n",
      "7534.65\n",
      "7156.2\n",
      "5921.35\n",
      "6110.2\n",
      "5638.3\n",
      "6144.55\n",
      "8109.8\n",
      "5812.6\n",
      "6851.65\n",
      "6137.0\n",
      "5743.05\n",
      "6871.9\n",
      "6529.25\n",
      "6975.25\n",
      "7446.9\n",
      "6440.25\n",
      "8684.8\n",
      "7262.0\n",
      "5688.05\n",
      "6979.8\n",
      "6405.0\n",
      "6145.85\n",
      "6981.35\n",
      "7804.15\n",
      "7220.35\n",
      "5639.05\n",
      "6903.1\n",
      "6428.4\n",
      "6252.9\n",
      "6579.05\n",
      "7856.0\n",
      "6205.5\n",
      "7674.55\n",
      "7548.1\n",
      "6581.9\n",
      "5785.5\n",
      "7176.55\n",
      "7299.65\n",
      "7491.75\n",
      "7723.9\n",
      "6039.9\n",
      "5916.45\n",
      "7752.3\n",
      "6585.35\n",
      "5643.4\n",
      "6441.4\n",
      "5769.6\n",
      "7723.7\n",
      "7348.8\n",
      "6219.6\n",
      "7968.85\n",
      "7432.05\n",
      "5746.15\n",
      "6876.05\n",
      "6014.85\n",
      "6859.5\n",
      "6418.9\n",
      "6886.25\n"
     ]
    }
   ],
   "source": [
    "for key,value in outliers.items():\n",
    "    for i in value:\n",
    "        print(i)"
   ]
  },
  {
   "cell_type": "code",
   "execution_count": 12,
   "metadata": {},
   "outputs": [
    {
     "name": "stderr",
     "output_type": "stream",
     "text": [
      "C:\\Users\\udays\\AppData\\Local\\conda\\conda\\envs\\deeplearning\\lib\\site-packages\\scipy\\stats\\stats.py:1713: FutureWarning: Using a non-tuple sequence for multidimensional indexing is deprecated; use `arr[tuple(seq)]` instead of `arr[seq]`. In the future this will be interpreted as an array index, `arr[np.array(seq)]`, which will result either in an error or a different result.\n",
      "  return np.add.reduce(sorted[indexer] * weights, axis=axis) / sumval\n"
     ]
    },
    {
     "data": {
      "text/plain": [
       "<matplotlib.axes._subplots.AxesSubplot at 0x27c54a97c50>"
      ]
     },
     "execution_count": 12,
     "metadata": {},
     "output_type": "execute_result"
    },
    {
     "data": {
      "image/png": "[encoded data removed]",
      "text/plain": [
       "<Figure size 432x288 with 1 Axes>"
      ]
     },
     "metadata": {
      "needs_background": "light"
     },
     "output_type": "display_data"
    }
   ],
   "source": [
    "import seaborn as sns\n",
    "sns.distplot(df['tenure'])"
   ]
  },
  {
   "cell_type": "code",
   "execution_count": 13,
   "metadata": {},
   "outputs": [
    {
     "name": "stderr",
     "output_type": "stream",
     "text": [
      "C:\\Users\\udays\\AppData\\Local\\conda\\conda\\envs\\deeplearning\\lib\\site-packages\\numpy\\lib\\histograms.py:754: RuntimeWarning: invalid value encountered in greater_equal\n",
      "  keep = (tmp_a >= first_edge)\n",
      "C:\\Users\\udays\\AppData\\Local\\conda\\conda\\envs\\deeplearning\\lib\\site-packages\\numpy\\lib\\histograms.py:755: RuntimeWarning: invalid value encountered in less_equal\n",
      "  keep &= (tmp_a <= last_edge)\n"
     ]
    },
    {
     "data": {
      "text/plain": [
       "(array([2702., 1224.,  670.,  507.,  452.,  411.,  394.,  310.,  223.,\n",
       "         122.]),\n",
       " array([  18.8,  885.4, 1752. , 2618.6, 3485.2, 4351.8, 5218.4, 6085. ,\n",
       "        6951.6, 7818.2, 8684.8]),\n",
       " <a list of 10 Patch objects>)"
      ]
     },
     "execution_count": 13,
     "metadata": {},
     "output_type": "execute_result"
    },
    {
     "data": {
      "image/png": "[encoded data removed]",
      "text/plain": [
       "<Figure size 432x288 with 1 Axes>"
      ]
     },
     "metadata": {
      "needs_background": "light"
     },
     "output_type": "display_data"
    }
   ],
   "source": [
    "import matplotlib.pyplot as plt\n",
    "%matplotlib inline\n",
    "import seaborn as sns\n",
    "plt.hist(df['TotalCharges'])"
   ]
  },
  {
   "cell_type": "code",
   "execution_count": 14,
   "metadata": {},
   "outputs": [
    {
     "data": {
      "text/plain": [
       "<matplotlib.collections.PathCollection at 0x27c54c50080>"
      ]
     },
     "execution_count": 14,
     "metadata": {},
     "output_type": "execute_result"
    },
    {
     "data": {
      "image/png": "[encoded data removed]",
      "text/plain": [
       "<Figure size 432x288 with 1 Axes>"
      ]
     },
     "metadata": {
      "needs_background": "light"
     },
     "output_type": "display_data"
    }
   ],
   "source": [
    "plt.scatter(df['TotalCharges'],df['tenure'])"
   ]
  },
  {
   "cell_type": "code",
   "execution_count": 15,
   "metadata": {
    "scrolled": true
   },
   "outputs": [
    {
     "name": "stdout",
     "output_type": "stream",
     "text": [
      "0\n"
     ]
    },
    {
     "data": {
      "text/plain": [
       "0         29.85\n",
       "1       1889.50\n",
       "2        108.15\n",
       "3       1840.75\n",
       "4        151.65\n",
       "5        820.50\n",
       "6       1949.40\n",
       "7        301.90\n",
       "8       3046.05\n",
       "9       3487.95\n",
       "10       587.45\n",
       "11       326.80\n",
       "12      5681.10\n",
       "13      5036.30\n",
       "14      2686.05\n",
       "15      7895.15\n",
       "16      1022.95\n",
       "17      7382.25\n",
       "18       528.35\n",
       "19      1862.90\n",
       "20        39.65\n",
       "21       202.25\n",
       "22        20.15\n",
       "23      3505.10\n",
       "24      2970.30\n",
       "25      1530.60\n",
       "26      4749.15\n",
       "27        30.20\n",
       "28      6369.45\n",
       "29      1093.10\n",
       "         ...   \n",
       "7013    3756.40\n",
       "7014    3645.75\n",
       "7015    2874.45\n",
       "7016      49.95\n",
       "7017    1020.75\n",
       "7018      70.65\n",
       "7019     826.00\n",
       "7020     239.00\n",
       "7021     727.80\n",
       "7022    7544.30\n",
       "7023    6479.40\n",
       "7024    3626.35\n",
       "7025    1679.40\n",
       "7026     403.35\n",
       "7027     931.55\n",
       "7028    4326.25\n",
       "7029     263.05\n",
       "7030      39.25\n",
       "7031    3316.10\n",
       "7032      75.75\n",
       "7033    2625.25\n",
       "7034    6886.25\n",
       "7035    1495.10\n",
       "7036     743.30\n",
       "7037    1419.40\n",
       "7038    1990.50\n",
       "7039    7362.90\n",
       "7040     346.45\n",
       "7041     306.60\n",
       "7042    6844.50\n",
       "Name: TotalCharges, Length: 7043, dtype: float64"
      ]
     },
     "execution_count": 15,
     "metadata": {},
     "output_type": "execute_result"
    }
   ],
   "source": [
    "df1=df.copy()\n",
    "from sklearn.impute import SimpleImputer\n",
    "imp_mean = SimpleImputer(missing_values=np.nan, strategy=\"median\")\n",
    "imr = imp_mean.fit(df1[['TotalCharges']])\n",
    "df1['TotalCharges']=imp_mean.transform(df1[['TotalCharges']]).ravel()\n",
    "print(df1['TotalCharges'].isnull().sum())\n",
    "df1['TotalCharges']"
   ]
  },
  {
   "cell_type": "code",
   "execution_count": 16,
   "metadata": {},
   "outputs": [],
   "source": [
    "df2=df.copy()\n",
    "from sklearn.experimental import enable_iterative_imputer  \n",
    "from sklearn.impute import IterativeImputer\n",
    "imp_mean = IterativeImputer(random_state=42)\n",
    "df2['TotalCharges']=imp_mean.fit_transform(df2[['TotalCharges']]).ravel()"
   ]
  },
  {
   "cell_type": "code",
   "execution_count": 17,
   "metadata": {},
   "outputs": [
    {
     "data": {
      "text/plain": [
       "0"
      ]
     },
     "execution_count": 17,
     "metadata": {},
     "output_type": "execute_result"
    }
   ],
   "source": [
    "df2['TotalCharges'].isnull().sum()"
   ]
  },
  {
   "cell_type": "code",
   "execution_count": 18,
   "metadata": {},
   "outputs": [],
   "source": [
    "df3=df.copy()\n",
    "from sklearn.impute import KNNImputer\n",
    "imputer = KNNImputer(n_neighbors=5, weights=\"uniform\")\n",
    "df3['TotalCharges']=imputer.fit_transform(df3[['TotalCharges']]).ravel()"
   ]
  },
  {
   "cell_type": "code",
   "execution_count": 19,
   "metadata": {
    "scrolled": true
   },
   "outputs": [
    {
     "data": {
      "text/plain": [
       "0"
      ]
     },
     "execution_count": 19,
     "metadata": {},
     "output_type": "execute_result"
    }
   ],
   "source": [
    "df3['TotalCharges'].isnull().sum()"
   ]
  }
 ],
 "metadata": {
  "kernelspec": {
   "display_name": "Python 3",
   "language": "python",
   "name": "python3"
  },
  "language_info": {
   "codemirror_mode": {
    "name": "ipython",
    "version": 3
   },
   "file_extension": ".py",
   "mimetype": "text/x-python",
   "name": "python",
   "nbconvert_exporter": "python",
   "pygments_lexer": "ipython3",
   "version": "3.6.7"
  }
 },
 "nbformat": 4,
 "nbformat_minor": 2
}
