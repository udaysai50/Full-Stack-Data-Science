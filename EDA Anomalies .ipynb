{
 "cells": [
  {
   "cell_type": "code",
   "execution_count": 1,
   "metadata": {},
   "outputs": [],
   "source": [
    "import pandas as pd\n",
    "import numpy as np\n",
    "import matplotlib.pyplot as plt\n",
    "%matplotlib inline\n",
    "import seaborn as sns"
   ]
  },
  {
   "cell_type": "code",
   "execution_count": 2,
   "metadata": {
    "scrolled": false
   },
   "outputs": [
    {
     "data": {
      "text/html": [
       "<div>\n",
       "<style scoped>\n",
       "    .dataframe tbody tr th:only-of-type {\n",
       "        vertical-align: middle;\n",
       "    }\n",
       "\n",
       "    .dataframe tbody tr th {\n",
       "        vertical-align: top;\n",
       "    }\n",
       "\n",
       "    .dataframe thead th {\n",
       "        text-align: right;\n",
       "    }\n",
       "</style>\n",
       "<table border=\"1\" class=\"dataframe\">\n",
       "  <thead>\n",
       "    <tr style=\"text-align: right;\">\n",
       "      <th></th>\n",
       "      <th>y</th>\n",
       "      <th>X0</th>\n",
       "      <th>X1</th>\n",
       "      <th>X2</th>\n",
       "      <th>X3</th>\n",
       "      <th>X6</th>\n",
       "    </tr>\n",
       "  </thead>\n",
       "  <tbody>\n",
       "    <tr>\n",
       "      <th>0</th>\n",
       "      <td>130.81</td>\n",
       "      <td>k</td>\n",
       "      <td>v</td>\n",
       "      <td>at</td>\n",
       "      <td>a</td>\n",
       "      <td>j</td>\n",
       "    </tr>\n",
       "    <tr>\n",
       "      <th>1</th>\n",
       "      <td>88.53</td>\n",
       "      <td>k</td>\n",
       "      <td>t</td>\n",
       "      <td>av</td>\n",
       "      <td>e</td>\n",
       "      <td>l</td>\n",
       "    </tr>\n",
       "    <tr>\n",
       "      <th>2</th>\n",
       "      <td>76.26</td>\n",
       "      <td>az</td>\n",
       "      <td>w</td>\n",
       "      <td>n</td>\n",
       "      <td>c</td>\n",
       "      <td>j</td>\n",
       "    </tr>\n",
       "    <tr>\n",
       "      <th>3</th>\n",
       "      <td>80.62</td>\n",
       "      <td>az</td>\n",
       "      <td>t</td>\n",
       "      <td>n</td>\n",
       "      <td>f</td>\n",
       "      <td>l</td>\n",
       "    </tr>\n",
       "    <tr>\n",
       "      <th>4</th>\n",
       "      <td>78.02</td>\n",
       "      <td>az</td>\n",
       "      <td>v</td>\n",
       "      <td>n</td>\n",
       "      <td>f</td>\n",
       "      <td>d</td>\n",
       "    </tr>\n",
       "  </tbody>\n",
       "</table>\n",
       "</div>"
      ],
      "text/plain": [
       "        y  X0 X1  X2 X3 X6\n",
       "0  130.81   k  v  at  a  j\n",
       "1   88.53   k  t  av  e  l\n",
       "2   76.26  az  w   n  c  j\n",
       "3   80.62  az  t   n  f  l\n",
       "4   78.02  az  v   n  f  d"
      ]
     },
     "execution_count": 2,
     "metadata": {},
     "output_type": "execute_result"
    }
   ],
   "source": [
    "df=pd.read_csv('merctrain.csv',usecols=['y','X0','X1','X2','X3','X6'])\n",
    "df.head()"
   ]
  },
  {
   "cell_type": "code",
   "execution_count": 3,
   "metadata": {},
   "outputs": [],
   "source": [
    "from pandas.api.types import is_string_dtype\n",
    "from pandas.api.types import is_numeric_dtype"
   ]
  },
  {
   "cell_type": "code",
   "execution_count": 4,
   "metadata": {
    "scrolled": true
   },
   "outputs": [
    {
     "data": {
      "text/plain": [
       "['y']"
      ]
     },
     "execution_count": 4,
     "metadata": {},
     "output_type": "execute_result"
    }
   ],
   "source": [
    "num_list=[col for col in df.columns if(is_numeric_dtype(df[col]))]\n",
    "num_list"
   ]
  },
  {
   "cell_type": "markdown",
   "metadata": {},
   "source": [
    "#### We can see that the target variable(y) is a numeric variable "
   ]
  },
  {
   "cell_type": "code",
   "execution_count": 5,
   "metadata": {
    "scrolled": true
   },
   "outputs": [
    {
     "data": {
      "text/plain": [
       "['X0', 'X1', 'X2', 'X3', 'X6']"
      ]
     },
     "execution_count": 5,
     "metadata": {},
     "output_type": "execute_result"
    }
   ],
   "source": [
    "cat_list=[col for col in df.columns if(is_string_dtype(df[col]))]\n",
    "cat_list"
   ]
  },
  {
   "cell_type": "markdown",
   "metadata": {},
   "source": [
    "#### We can see that all the explanatory variables(X's) are continuous variables"
   ]
  },
  {
   "cell_type": "code",
   "execution_count": 6,
   "metadata": {
    "scrolled": true
   },
   "outputs": [
    {
     "name": "stdout",
     "output_type": "stream",
     "text": [
      "The number of missing values in y is:0\n",
      "The number of missing values in X0 is:0\n",
      "The number of missing values in X1 is:0\n",
      "The number of missing values in X2 is:0\n",
      "The number of missing values in X3 is:0\n",
      "The number of missing values in X6 is:0\n"
     ]
    }
   ],
   "source": [
    "for col in df.columns:\n",
    "    print(\"The number of missing values in {} is:{}\".format(col,df[col].isnull().sum()))"
   ]
  },
  {
   "cell_type": "markdown",
   "metadata": {},
   "source": [
    "#### From above code we can conclude that there are no null values in the columns which we are using. Let us proceed to inspect the values that each of these variables take"
   ]
  },
  {
   "cell_type": "code",
   "execution_count": 7,
   "metadata": {
    "scrolled": true
   },
   "outputs": [
    {
     "data": {
      "text/plain": [
       "Text(0.5, 1.0, 'y')"
      ]
     },
     "execution_count": 7,
     "metadata": {},
     "output_type": "execute_result"
    },
    {
     "data": {
      "image/png": "[encoded data removed]",
      "text/plain": [
       "<Figure size 432x288 with 1 Axes>"
      ]
     },
     "metadata": {
      "needs_background": "light"
     },
     "output_type": "display_data"
    }
   ],
   "source": [
    "plt.hist(df['y'])\n",
    "plt.xlabel('y')\n",
    "plt.title('y')"
   ]
  },
  {
   "cell_type": "code",
   "execution_count": 8,
   "metadata": {
    "scrolled": true
   },
   "outputs": [
    {
     "name": "stderr",
     "output_type": "stream",
     "text": [
      "C:\\Users\\udays\\AppData\\Local\\conda\\conda\\envs\\deeplearning\\lib\\site-packages\\scipy\\stats\\stats.py:1713: FutureWarning: Using a non-tuple sequence for multidimensional indexing is deprecated; use `arr[tuple(seq)]` instead of `arr[seq]`. In the future this will be interpreted as an array index, `arr[np.array(seq)]`, which will result either in an error or a different result.\n",
      "  return np.add.reduce(sorted[indexer] * weights, axis=axis) / sumval\n"
     ]
    },
    {
     "data": {
      "text/plain": [
       "Text(0.5, 1.0, 'y')"
      ]
     },
     "execution_count": 8,
     "metadata": {},
     "output_type": "execute_result"
    },
    {
     "data": {
      "image/png": "[encoded data removed]",
      "text/plain": [
       "<Figure size 432x288 with 1 Axes>"
      ]
     },
     "metadata": {
      "needs_background": "light"
     },
     "output_type": "display_data"
    }
   ],
   "source": [
    "sns.distplot(df['y'],kde=True,hist=True)\n",
    "plt.xlabel('y')\n",
    "plt.title('y')"
   ]
  },
  {
   "cell_type": "code",
   "execution_count": 9,
   "metadata": {
    "scrolled": true
   },
   "outputs": [
    {
     "name": "stdout",
     "output_type": "stream",
     "text": [
      "The proportion of values present in X0 is:z     0.085531\n",
      "ak    0.082918\n",
      "y     0.076978\n",
      "ay    0.074364\n",
      "t     0.072701\n",
      "x     0.071276\n",
      "o     0.063911\n",
      "f     0.053932\n",
      "n     0.046329\n",
      "w     0.043241\n",
      "j     0.043003\n",
      "az    0.041578\n",
      "aj    0.035876\n",
      "s     0.025184\n",
      "ap    0.024471\n",
      "h     0.017819\n",
      "d     0.017344\n",
      "al    0.015918\n",
      "v     0.008553\n",
      "af    0.008316\n",
      "ai    0.008078\n",
      "m     0.008078\n",
      "e     0.007603\n",
      "ba    0.006415\n",
      "at    0.005940\n",
      "a     0.004989\n",
      "ax    0.004514\n",
      "am    0.004277\n",
      "aq    0.004277\n",
      "i     0.004277\n",
      "u     0.004039\n",
      "aw    0.003801\n",
      "l     0.003801\n",
      "ad    0.003326\n",
      "au    0.002613\n",
      "k     0.002613\n",
      "b     0.002613\n",
      "as    0.002376\n",
      "r     0.002376\n",
      "bc    0.001426\n",
      "ao    0.000950\n",
      "c     0.000713\n",
      "aa    0.000475\n",
      "q     0.000475\n",
      "ac    0.000238\n",
      "ab    0.000238\n",
      "g     0.000238\n",
      "Name: X0, dtype: float64\n",
      "The proportion of values present in X1 is:aa    0.197909\n",
      "s     0.142077\n",
      "b     0.140651\n",
      "l     0.140176\n",
      "v     0.096935\n",
      "r     0.059634\n",
      "i     0.048230\n",
      "a     0.033975\n",
      "c     0.028748\n",
      "o     0.019482\n",
      "w     0.012354\n",
      "z     0.010929\n",
      "u     0.008791\n",
      "e     0.007840\n",
      "m     0.007603\n",
      "t     0.007365\n",
      "h     0.006890\n",
      "y     0.005464\n",
      "f     0.005464\n",
      "j     0.005227\n",
      "n     0.004514\n",
      "k     0.004039\n",
      "p     0.002138\n",
      "g     0.001426\n",
      "ab    0.000713\n",
      "d     0.000713\n",
      "q     0.000713\n",
      "Name: X1, dtype: float64\n",
      "The proportion of values present in X2 is:as    0.394155\n",
      "ae    0.117843\n",
      "ai    0.098598\n",
      "m     0.087194\n",
      "ak    0.062960\n",
      "r     0.036351\n",
      "n     0.032549\n",
      "s     0.022333\n",
      "f     0.020670\n",
      "e     0.019244\n",
      "aq    0.014968\n",
      "ay    0.012830\n",
      "a     0.011167\n",
      "t     0.006890\n",
      "k     0.005940\n",
      "i     0.005940\n",
      "b     0.004989\n",
      "ao    0.004752\n",
      "z     0.004514\n",
      "ag    0.004514\n",
      "d     0.004277\n",
      "ac    0.003089\n",
      "g     0.002851\n",
      "ap    0.002613\n",
      "y     0.002613\n",
      "x     0.002376\n",
      "aw    0.001901\n",
      "h     0.001426\n",
      "at    0.001426\n",
      "q     0.001188\n",
      "al    0.001188\n",
      "an    0.001188\n",
      "ah    0.000950\n",
      "p     0.000950\n",
      "av    0.000950\n",
      "au    0.000713\n",
      "j     0.000238\n",
      "c     0.000238\n",
      "af    0.000238\n",
      "am    0.000238\n",
      "ar    0.000238\n",
      "l     0.000238\n",
      "o     0.000238\n",
      "aa    0.000238\n",
      "Name: X2, dtype: float64\n",
      "The proportion of values present in X3 is:c    0.461392\n",
      "f    0.255643\n",
      "a    0.104538\n",
      "d    0.068900\n",
      "g    0.057258\n",
      "e    0.038727\n",
      "b    0.013542\n",
      "Name: X3, dtype: float64\n",
      "The proportion of values present in X6 is:g    0.247565\n",
      "j    0.246852\n",
      "d    0.148491\n",
      "i    0.115942\n",
      "l    0.113566\n",
      "a    0.048943\n",
      "h    0.045141\n",
      "k    0.010216\n",
      "c    0.009028\n",
      "b    0.006652\n",
      "f    0.004752\n",
      "e    0.002851\n",
      "Name: X6, dtype: float64\n"
     ]
    }
   ],
   "source": [
    "for col in cat_list:\n",
    "    print(\"The proportion of values present in {} is:{}\".format(col,df[col].value_counts()/len(df)))"
   ]
  },
  {
   "cell_type": "code",
   "execution_count": 10,
   "metadata": {
    "scrolled": false
   },
   "outputs": [
    {
     "data": {
      "image/png": "[encoded data removed]",
      "text/plain": [
       "<Figure size 432x288 with 1 Axes>"
      ]
     },
     "metadata": {
      "needs_background": "light"
     },
     "output_type": "display_data"
    },
    {
     "data": {
      "image/png": "[encoded data removed]",
      "text/plain": [
       "<Figure size 432x288 with 1 Axes>"
      ]
     },
     "metadata": {
      "needs_background": "light"
     },
     "output_type": "display_data"
    },
    {
     "data": {
      "image/png": "[encoded data removed]",
      "text/plain": [
       "<Figure size 432x288 with 1 Axes>"
      ]
     },
     "metadata": {
      "needs_background": "light"
     },
     "output_type": "display_data"
    },
    {
     "data": {
      "image/png": "[encoded data removed]",
      "text/plain": [
       "<Figure size 432x288 with 1 Axes>"
      ]
     },
     "metadata": {
      "needs_background": "light"
     },
     "output_type": "display_data"
    },
    {
     "data": {
      "image/png": "[encoded data removed]",
      "text/plain": [
       "<Figure size 432x288 with 1 Axes>"
      ]
     },
     "metadata": {
      "needs_background": "light"
     },
     "output_type": "display_data"
    }
   ],
   "source": [
    "for col in cat_list:\n",
    "    sns.countplot(df[col])\n",
    "    plt.title(col)\n",
    "    plt.show()"
   ]
  },
  {
   "cell_type": "markdown",
   "metadata": {},
   "source": [
    "#### Here we can see that few of the labels contain very less counts of the data points. This is established both descreptively and visually"
   ]
  },
  {
   "cell_type": "code",
   "execution_count": 11,
   "metadata": {
    "scrolled": true
   },
   "outputs": [
    {
     "data": {
      "image/png": "[encoded data removed]",
      "text/plain": [
       "<Figure size 576x288 with 2 Axes>"
      ]
     },
     "metadata": {
      "needs_background": "light"
     },
     "output_type": "display_data"
    },
    {
     "data": {
      "image/png": "[encoded data removed]",
      "text/plain": [
       "<Figure size 576x288 with 2 Axes>"
      ]
     },
     "metadata": {
      "needs_background": "light"
     },
     "output_type": "display_data"
    },
    {
     "data": {
      "image/png": "[encoded data removed]",
      "text/plain": [
       "<Figure size 576x288 with 2 Axes>"
      ]
     },
     "metadata": {
      "needs_background": "light"
     },
     "output_type": "display_data"
    },
    {
     "data": {
      "image/png": "[encoded data removed]",
      "text/plain": [
       "<Figure size 576x288 with 2 Axes>"
      ]
     },
     "metadata": {
      "needs_background": "light"
     },
     "output_type": "display_data"
    }
   ],
   "source": [
    "for col in ['X1','X2','X3','X6']:\n",
    "    df1=df.copy()\n",
    "    df1=pd.Series(df[col].value_counts())/len(df)\n",
    "    df1=df1.reset_index()\n",
    "    df1.columns=[col,col+'_percs']\n",
    "    df1=df1.merge(df.groupby([col])['y'].mean().reset_index(),on=col,how=\"left\")\n",
    "    df1.columns\n",
    "    fig,ax=plt.subplots(figsize=(8,4))\n",
    "    plt.xticks(df1.index,df1[col],rotation=0)\n",
    "    ax2=ax.twinx()\n",
    "    ax.bar(df1.index,df1[col+'_percs'],color=\"lightgrey\",label=col)\n",
    "    ax2.plot(df1.index,df1['y'],color=\"blue\")\n",
    "    ax.set_ylabel(col)\n",
    "    ax2.set_ylabel('y')\n",
    "    ax.legend()\n",
    "    plt.show()"
   ]
  },
  {
   "cell_type": "code",
   "execution_count": 12,
   "metadata": {
    "scrolled": true
   },
   "outputs": [
    {
     "data": {
      "text/html": [
       "<div>\n",
       "<style scoped>\n",
       "    .dataframe tbody tr th:only-of-type {\n",
       "        vertical-align: middle;\n",
       "    }\n",
       "\n",
       "    .dataframe tbody tr th {\n",
       "        vertical-align: top;\n",
       "    }\n",
       "\n",
       "    .dataframe thead th {\n",
       "        text-align: right;\n",
       "    }\n",
       "</style>\n",
       "<table border=\"1\" class=\"dataframe\">\n",
       "  <thead>\n",
       "    <tr style=\"text-align: right;\">\n",
       "      <th></th>\n",
       "      <th>y</th>\n",
       "      <th>X0</th>\n",
       "      <th>X1</th>\n",
       "      <th>X2</th>\n",
       "      <th>X3</th>\n",
       "      <th>X6</th>\n",
       "      <th>X1_grouped</th>\n",
       "      <th>X2_grouped</th>\n",
       "      <th>X3_grouped</th>\n",
       "      <th>X6_grouped</th>\n",
       "    </tr>\n",
       "  </thead>\n",
       "  <tbody>\n",
       "    <tr>\n",
       "      <th>0</th>\n",
       "      <td>130.81</td>\n",
       "      <td>k</td>\n",
       "      <td>v</td>\n",
       "      <td>at</td>\n",
       "      <td>a</td>\n",
       "      <td>j</td>\n",
       "      <td>rare</td>\n",
       "      <td>rare</td>\n",
       "      <td>a</td>\n",
       "      <td>j</td>\n",
       "    </tr>\n",
       "    <tr>\n",
       "      <th>1</th>\n",
       "      <td>88.53</td>\n",
       "      <td>k</td>\n",
       "      <td>t</td>\n",
       "      <td>av</td>\n",
       "      <td>e</td>\n",
       "      <td>l</td>\n",
       "      <td>rare</td>\n",
       "      <td>rare</td>\n",
       "      <td>rare</td>\n",
       "      <td>l</td>\n",
       "    </tr>\n",
       "    <tr>\n",
       "      <th>2</th>\n",
       "      <td>76.26</td>\n",
       "      <td>az</td>\n",
       "      <td>w</td>\n",
       "      <td>n</td>\n",
       "      <td>c</td>\n",
       "      <td>j</td>\n",
       "      <td>rare</td>\n",
       "      <td>rare</td>\n",
       "      <td>c</td>\n",
       "      <td>j</td>\n",
       "    </tr>\n",
       "    <tr>\n",
       "      <th>3</th>\n",
       "      <td>80.62</td>\n",
       "      <td>az</td>\n",
       "      <td>t</td>\n",
       "      <td>n</td>\n",
       "      <td>f</td>\n",
       "      <td>l</td>\n",
       "      <td>rare</td>\n",
       "      <td>rare</td>\n",
       "      <td>f</td>\n",
       "      <td>l</td>\n",
       "    </tr>\n",
       "    <tr>\n",
       "      <th>4</th>\n",
       "      <td>78.02</td>\n",
       "      <td>az</td>\n",
       "      <td>v</td>\n",
       "      <td>n</td>\n",
       "      <td>f</td>\n",
       "      <td>d</td>\n",
       "      <td>rare</td>\n",
       "      <td>rare</td>\n",
       "      <td>f</td>\n",
       "      <td>d</td>\n",
       "    </tr>\n",
       "  </tbody>\n",
       "</table>\n",
       "</div>"
      ],
      "text/plain": [
       "        y  X0 X1  X2 X3 X6 X1_grouped X2_grouped X3_grouped X6_grouped\n",
       "0  130.81   k  v  at  a  j       rare       rare          a          j\n",
       "1   88.53   k  t  av  e  l       rare       rare       rare          l\n",
       "2   76.26  az  w   n  c  j       rare       rare          c          j\n",
       "3   80.62  az  t   n  f  l       rare       rare          f          l\n",
       "4   78.02  az  v   n  f  d       rare       rare          f          d"
      ]
     },
     "execution_count": 12,
     "metadata": {},
     "output_type": "execute_result"
    }
   ],
   "source": [
    "for col in ['X1','X2','X3','X6']:\n",
    "    df1=pd.Series(df[col].value_counts()/len(df))\n",
    "    df1.reset_index()\n",
    "    tempdf=df1[df1>=0.1]\n",
    "    grouping_dict={k: ('rare' if k not in tempdf.index else k) for k in df1.index}\n",
    "    df[col+'_grouped']=df[col].map(grouping_dict)\n",
    "df.head()"
   ]
  },
  {
   "cell_type": "code",
   "execution_count": 13,
   "metadata": {
    "scrolled": true
   },
   "outputs": [
    {
     "data": {
      "image/png": "[encoded data removed]",
      "text/plain": [
       "<Figure size 576x288 with 2 Axes>"
      ]
     },
     "metadata": {
      "needs_background": "light"
     },
     "output_type": "display_data"
    },
    {
     "data": {
      "image/png": "[encoded data removed]",
      "text/plain": [
       "<Figure size 576x288 with 2 Axes>"
      ]
     },
     "metadata": {
      "needs_background": "light"
     },
     "output_type": "display_data"
    },
    {
     "data": {
      "image/png": "[encoded data removed]",
      "text/plain": [
       "<Figure size 576x288 with 2 Axes>"
      ]
     },
     "metadata": {
      "needs_background": "light"
     },
     "output_type": "display_data"
    },
    {
     "data": {
      "image/png": "[encoded data removed]",
      "text/plain": [
       "<Figure size 576x288 with 2 Axes>"
      ]
     },
     "metadata": {
      "needs_background": "light"
     },
     "output_type": "display_data"
    }
   ],
   "source": [
    "for col in ['X1_grouped','X2_grouped','X3_grouped','X6_grouped']:\n",
    "    df1=pd.Series(df[col].value_counts())/len(df)\n",
    "    df1=df1.reset_index()\n",
    "    df1.columns=[col,col+'_perc']\n",
    "    df1=df1.merge(df.groupby([col])['y'].mean().reset_index(),on=col,how=\"left\")\n",
    "    #print(df1.head())\n",
    "    fig,ax=plt.subplots(figsize=(8,4))\n",
    "    plt.xticks(df1.index,df1[col],rotation=0)\n",
    "    ax2=ax.twinx()\n",
    "    ax.bar(df1.index,df1[col+'_perc'],color=\"lightgrey\",label=col)\n",
    "    ax2.plot(df1.index,df1['y'],color=\"blue\")\n",
    "    ax.set_ylabel(col)\n",
    "    ax2.set_ylabel('y')\n",
    "    ax.legend()\n",
    "    plt.show()"
   ]
  },
  {
   "cell_type": "code",
   "execution_count": 14,
   "metadata": {
    "scrolled": true
   },
   "outputs": [
    {
     "data": {
      "text/plain": [
       "PassengerId      0\n",
       "Pclass           0\n",
       "Name             0\n",
       "Sex              0\n",
       "Age             86\n",
       "SibSp            0\n",
       "Parch            0\n",
       "Ticket           0\n",
       "Fare             1\n",
       "Cabin          327\n",
       "Embarked         0\n",
       "dtype: int64"
      ]
     },
     "execution_count": 14,
     "metadata": {},
     "output_type": "execute_result"
    }
   ],
   "source": [
    "df=pd.read_csv('titanictest.csv')\n",
    "df.isnull().sum()"
   ]
  },
  {
   "cell_type": "code",
   "execution_count": 18,
   "metadata": {
    "scrolled": true
   },
   "outputs": [
    {
     "data": {
      "image/png": "[encoded data removed]",
      "text/plain": [
       "<Figure size 432x288 with 1 Axes>"
      ]
     },
     "metadata": {
      "needs_background": "light"
     },
     "output_type": "display_data"
    }
   ],
   "source": [
    "sns.boxplot(df['Fare'],orient=\"v\")\n",
    "plt.xlabel(\"Fare\")\n",
    "plt.title(\"Outlier Detection\")\n",
    "plt.show()"
   ]
  },
  {
   "cell_type": "code",
   "execution_count": 19,
   "metadata": {
    "scrolled": true
   },
   "outputs": [
    {
     "name": "stdout",
     "output_type": "stream",
     "text": [
      "The number of strong outliers present in Fare is:31\n",
      "262.375\n",
      "263.0\n",
      "262.375\n",
      "262.375\n",
      "263.0\n",
      "211.5\n",
      "211.5\n",
      "221.7792\n",
      "221.7792\n",
      "151.55\n",
      "262.375\n",
      "221.7792\n",
      "247.5208\n",
      "134.5\n",
      "227.525\n",
      "164.8667\n",
      "211.5\n",
      "106.425\n",
      "134.5\n",
      "136.7792\n",
      "136.7792\n",
      "151.55\n",
      "135.6333\n",
      "146.5208\n",
      "211.3375\n",
      "512.3292\n",
      "134.5\n",
      "262.375\n",
      "164.8667\n",
      "211.5\n",
      "108.9\n"
     ]
    }
   ],
   "source": [
    "from pandas.api.types import is_float_dtype\n",
    "from collections import defaultdict\n",
    "#from scipy.stats import iqr\n",
    "outliers=defaultdict(list)\n",
    "num_list=list()\n",
    "for col in df.columns:\n",
    "    if(col==\"Fare\"):\n",
    "        num_list.append(col)\n",
    "        Q1 = df[col].quantile(0.25)\n",
    "        Q3 = df[col].quantile(0.75)\n",
    "        IQR = Q3 - Q1\n",
    "        #q75, q25 = iqr(df[col])\n",
    "        #iqr = q75 - q25\n",
    "        #print(col, \":\" ,IQR)\n",
    "        #for i in range(0,len(num_list)+1):\n",
    "        for index, row in df.iterrows():\n",
    "            if((row[col]<(Q1-3*IQR)) or (row[col]>(Q3+3*IQR))):\n",
    "                    outliers[col].append(row[col])\n",
    "                #else:\n",
    "                    \n",
    "for key,values in outliers.items():\n",
    "    print(\"The number of strong outliers present in {} is:{}\".format(key,len(values)))\n",
    "    for i in values:\n",
    "        print(i)"
   ]
  },
  {
   "cell_type": "code",
   "execution_count": 20,
   "metadata": {},
   "outputs": [
    {
     "data": {
      "text/html": [
       "<div>\n",
       "<style scoped>\n",
       "    .dataframe tbody tr th:only-of-type {\n",
       "        vertical-align: middle;\n",
       "    }\n",
       "\n",
       "    .dataframe tbody tr th {\n",
       "        vertical-align: top;\n",
       "    }\n",
       "\n",
       "    .dataframe thead th {\n",
       "        text-align: right;\n",
       "    }\n",
       "</style>\n",
       "<table border=\"1\" class=\"dataframe\">\n",
       "  <thead>\n",
       "    <tr style=\"text-align: right;\">\n",
       "      <th></th>\n",
       "      <th>PassengerId</th>\n",
       "      <th>Pclass</th>\n",
       "      <th>Name</th>\n",
       "      <th>Sex</th>\n",
       "      <th>Age</th>\n",
       "      <th>SibSp</th>\n",
       "      <th>Parch</th>\n",
       "      <th>Ticket</th>\n",
       "      <th>Fare</th>\n",
       "      <th>Cabin</th>\n",
       "      <th>Embarked</th>\n",
       "    </tr>\n",
       "  </thead>\n",
       "  <tbody>\n",
       "    <tr>\n",
       "      <th>24</th>\n",
       "      <td>916</td>\n",
       "      <td>1</td>\n",
       "      <td>Ryerson, Mrs. Arthur Larned (Emily Maria Borie)</td>\n",
       "      <td>female</td>\n",
       "      <td>48.0</td>\n",
       "      <td>1</td>\n",
       "      <td>3</td>\n",
       "      <td>PC 17608</td>\n",
       "      <td>262.3750</td>\n",
       "      <td>B57 B59 B63 B66</td>\n",
       "      <td>C</td>\n",
       "    </tr>\n",
       "    <tr>\n",
       "      <th>53</th>\n",
       "      <td>945</td>\n",
       "      <td>1</td>\n",
       "      <td>Fortune, Miss. Ethel Flora</td>\n",
       "      <td>female</td>\n",
       "      <td>28.0</td>\n",
       "      <td>3</td>\n",
       "      <td>2</td>\n",
       "      <td>19950</td>\n",
       "      <td>263.0000</td>\n",
       "      <td>C23 C25 C27</td>\n",
       "      <td>S</td>\n",
       "    </tr>\n",
       "    <tr>\n",
       "      <th>59</th>\n",
       "      <td>951</td>\n",
       "      <td>1</td>\n",
       "      <td>Chaudanson, Miss. Victorine</td>\n",
       "      <td>female</td>\n",
       "      <td>36.0</td>\n",
       "      <td>0</td>\n",
       "      <td>0</td>\n",
       "      <td>PC 17608</td>\n",
       "      <td>262.3750</td>\n",
       "      <td>B61</td>\n",
       "      <td>C</td>\n",
       "    </tr>\n",
       "    <tr>\n",
       "      <th>64</th>\n",
       "      <td>956</td>\n",
       "      <td>1</td>\n",
       "      <td>Ryerson, Master. John Borie</td>\n",
       "      <td>male</td>\n",
       "      <td>13.0</td>\n",
       "      <td>2</td>\n",
       "      <td>2</td>\n",
       "      <td>PC 17608</td>\n",
       "      <td>262.3750</td>\n",
       "      <td>B57 B59 B63 B66</td>\n",
       "      <td>C</td>\n",
       "    </tr>\n",
       "    <tr>\n",
       "      <th>69</th>\n",
       "      <td>961</td>\n",
       "      <td>1</td>\n",
       "      <td>Fortune, Mrs. Mark (Mary McDougald)</td>\n",
       "      <td>female</td>\n",
       "      <td>60.0</td>\n",
       "      <td>1</td>\n",
       "      <td>4</td>\n",
       "      <td>19950</td>\n",
       "      <td>263.0000</td>\n",
       "      <td>C23 C25 C27</td>\n",
       "      <td>S</td>\n",
       "    </tr>\n",
       "    <tr>\n",
       "      <th>74</th>\n",
       "      <td>966</td>\n",
       "      <td>1</td>\n",
       "      <td>Geiger, Miss. Amalie</td>\n",
       "      <td>female</td>\n",
       "      <td>35.0</td>\n",
       "      <td>0</td>\n",
       "      <td>0</td>\n",
       "      <td>113503</td>\n",
       "      <td>211.5000</td>\n",
       "      <td>C130</td>\n",
       "      <td>C</td>\n",
       "    </tr>\n",
       "    <tr>\n",
       "      <th>75</th>\n",
       "      <td>967</td>\n",
       "      <td>1</td>\n",
       "      <td>Keeping, Mr. Edwin</td>\n",
       "      <td>male</td>\n",
       "      <td>32.5</td>\n",
       "      <td>0</td>\n",
       "      <td>0</td>\n",
       "      <td>113503</td>\n",
       "      <td>211.5000</td>\n",
       "      <td>C132</td>\n",
       "      <td>C</td>\n",
       "    </tr>\n",
       "    <tr>\n",
       "      <th>81</th>\n",
       "      <td>973</td>\n",
       "      <td>1</td>\n",
       "      <td>Straus, Mr. Isidor</td>\n",
       "      <td>male</td>\n",
       "      <td>67.0</td>\n",
       "      <td>1</td>\n",
       "      <td>0</td>\n",
       "      <td>PC 17483</td>\n",
       "      <td>221.7792</td>\n",
       "      <td>C55 C57</td>\n",
       "      <td>S</td>\n",
       "    </tr>\n",
       "    <tr>\n",
       "      <th>114</th>\n",
       "      <td>1006</td>\n",
       "      <td>1</td>\n",
       "      <td>Straus, Mrs. Isidor (Rosalie Ida Blun)</td>\n",
       "      <td>female</td>\n",
       "      <td>63.0</td>\n",
       "      <td>1</td>\n",
       "      <td>0</td>\n",
       "      <td>PC 17483</td>\n",
       "      <td>221.7792</td>\n",
       "      <td>C55 C57</td>\n",
       "      <td>S</td>\n",
       "    </tr>\n",
       "    <tr>\n",
       "      <th>141</th>\n",
       "      <td>1033</td>\n",
       "      <td>1</td>\n",
       "      <td>Daniels, Miss. Sarah</td>\n",
       "      <td>female</td>\n",
       "      <td>33.0</td>\n",
       "      <td>0</td>\n",
       "      <td>0</td>\n",
       "      <td>113781</td>\n",
       "      <td>151.5500</td>\n",
       "      <td>NaN</td>\n",
       "      <td>S</td>\n",
       "    </tr>\n",
       "    <tr>\n",
       "      <th>142</th>\n",
       "      <td>1034</td>\n",
       "      <td>1</td>\n",
       "      <td>Ryerson, Mr. Arthur Larned</td>\n",
       "      <td>male</td>\n",
       "      <td>61.0</td>\n",
       "      <td>1</td>\n",
       "      <td>3</td>\n",
       "      <td>PC 17608</td>\n",
       "      <td>262.3750</td>\n",
       "      <td>B57 B59 B63 B66</td>\n",
       "      <td>C</td>\n",
       "    </tr>\n",
       "    <tr>\n",
       "      <th>156</th>\n",
       "      <td>1048</td>\n",
       "      <td>1</td>\n",
       "      <td>Bird, Miss. Ellen</td>\n",
       "      <td>female</td>\n",
       "      <td>29.0</td>\n",
       "      <td>0</td>\n",
       "      <td>0</td>\n",
       "      <td>PC 17483</td>\n",
       "      <td>221.7792</td>\n",
       "      <td>C97</td>\n",
       "      <td>S</td>\n",
       "    </tr>\n",
       "    <tr>\n",
       "      <th>184</th>\n",
       "      <td>1076</td>\n",
       "      <td>1</td>\n",
       "      <td>Douglas, Mrs. Frederick Charles (Mary Helene B...</td>\n",
       "      <td>female</td>\n",
       "      <td>27.0</td>\n",
       "      <td>1</td>\n",
       "      <td>1</td>\n",
       "      <td>PC 17558</td>\n",
       "      <td>247.5208</td>\n",
       "      <td>B58 B60</td>\n",
       "      <td>C</td>\n",
       "    </tr>\n",
       "    <tr>\n",
       "      <th>196</th>\n",
       "      <td>1088</td>\n",
       "      <td>1</td>\n",
       "      <td>Spedden, Master. Robert Douglas</td>\n",
       "      <td>male</td>\n",
       "      <td>6.0</td>\n",
       "      <td>0</td>\n",
       "      <td>2</td>\n",
       "      <td>16966</td>\n",
       "      <td>134.5000</td>\n",
       "      <td>E34</td>\n",
       "      <td>C</td>\n",
       "    </tr>\n",
       "    <tr>\n",
       "      <th>202</th>\n",
       "      <td>1094</td>\n",
       "      <td>1</td>\n",
       "      <td>Astor, Col. John Jacob</td>\n",
       "      <td>male</td>\n",
       "      <td>47.0</td>\n",
       "      <td>1</td>\n",
       "      <td>0</td>\n",
       "      <td>PC 17757</td>\n",
       "      <td>227.5250</td>\n",
       "      <td>C62 C64</td>\n",
       "      <td>C</td>\n",
       "    </tr>\n",
       "    <tr>\n",
       "      <th>217</th>\n",
       "      <td>1109</td>\n",
       "      <td>1</td>\n",
       "      <td>Wick, Mr. George Dennick</td>\n",
       "      <td>male</td>\n",
       "      <td>57.0</td>\n",
       "      <td>1</td>\n",
       "      <td>1</td>\n",
       "      <td>36928</td>\n",
       "      <td>164.8667</td>\n",
       "      <td>NaN</td>\n",
       "      <td>S</td>\n",
       "    </tr>\n",
       "    <tr>\n",
       "      <th>218</th>\n",
       "      <td>1110</td>\n",
       "      <td>1</td>\n",
       "      <td>Widener, Mrs. George Dunton (Eleanor Elkins)</td>\n",
       "      <td>female</td>\n",
       "      <td>50.0</td>\n",
       "      <td>1</td>\n",
       "      <td>1</td>\n",
       "      <td>113503</td>\n",
       "      <td>211.5000</td>\n",
       "      <td>C80</td>\n",
       "      <td>C</td>\n",
       "    </tr>\n",
       "    <tr>\n",
       "      <th>239</th>\n",
       "      <td>1131</td>\n",
       "      <td>1</td>\n",
       "      <td>Douglas, Mrs. Walter Donald (Mahala Dutton)</td>\n",
       "      <td>female</td>\n",
       "      <td>48.0</td>\n",
       "      <td>1</td>\n",
       "      <td>0</td>\n",
       "      <td>PC 17761</td>\n",
       "      <td>106.4250</td>\n",
       "      <td>C86</td>\n",
       "      <td>C</td>\n",
       "    </tr>\n",
       "    <tr>\n",
       "      <th>242</th>\n",
       "      <td>1134</td>\n",
       "      <td>1</td>\n",
       "      <td>Spedden, Mr. Frederic Oakley</td>\n",
       "      <td>male</td>\n",
       "      <td>45.0</td>\n",
       "      <td>1</td>\n",
       "      <td>1</td>\n",
       "      <td>16966</td>\n",
       "      <td>134.5000</td>\n",
       "      <td>E34</td>\n",
       "      <td>C</td>\n",
       "    </tr>\n",
       "    <tr>\n",
       "      <th>252</th>\n",
       "      <td>1144</td>\n",
       "      <td>1</td>\n",
       "      <td>Clark, Mr. Walter Miller</td>\n",
       "      <td>male</td>\n",
       "      <td>27.0</td>\n",
       "      <td>1</td>\n",
       "      <td>0</td>\n",
       "      <td>13508</td>\n",
       "      <td>136.7792</td>\n",
       "      <td>C89</td>\n",
       "      <td>C</td>\n",
       "    </tr>\n",
       "    <tr>\n",
       "      <th>272</th>\n",
       "      <td>1164</td>\n",
       "      <td>1</td>\n",
       "      <td>Clark, Mrs. Walter Miller (Virginia McDowell)</td>\n",
       "      <td>female</td>\n",
       "      <td>26.0</td>\n",
       "      <td>1</td>\n",
       "      <td>0</td>\n",
       "      <td>13508</td>\n",
       "      <td>136.7792</td>\n",
       "      <td>C89</td>\n",
       "      <td>C</td>\n",
       "    </tr>\n",
       "    <tr>\n",
       "      <th>306</th>\n",
       "      <td>1198</td>\n",
       "      <td>1</td>\n",
       "      <td>Allison, Mr. Hudson Joshua Creighton</td>\n",
       "      <td>male</td>\n",
       "      <td>30.0</td>\n",
       "      <td>1</td>\n",
       "      <td>2</td>\n",
       "      <td>113781</td>\n",
       "      <td>151.5500</td>\n",
       "      <td>C22 C26</td>\n",
       "      <td>S</td>\n",
       "    </tr>\n",
       "    <tr>\n",
       "      <th>314</th>\n",
       "      <td>1206</td>\n",
       "      <td>1</td>\n",
       "      <td>White, Mrs. John Stuart (Ella Holmes)</td>\n",
       "      <td>female</td>\n",
       "      <td>55.0</td>\n",
       "      <td>0</td>\n",
       "      <td>0</td>\n",
       "      <td>PC 17760</td>\n",
       "      <td>135.6333</td>\n",
       "      <td>C32</td>\n",
       "      <td>C</td>\n",
       "    </tr>\n",
       "    <tr>\n",
       "      <th>316</th>\n",
       "      <td>1208</td>\n",
       "      <td>1</td>\n",
       "      <td>Spencer, Mr. William Augustus</td>\n",
       "      <td>male</td>\n",
       "      <td>57.0</td>\n",
       "      <td>1</td>\n",
       "      <td>0</td>\n",
       "      <td>PC 17569</td>\n",
       "      <td>146.5208</td>\n",
       "      <td>B78</td>\n",
       "      <td>C</td>\n",
       "    </tr>\n",
       "    <tr>\n",
       "      <th>324</th>\n",
       "      <td>1216</td>\n",
       "      <td>1</td>\n",
       "      <td>Kreuchen, Miss. Emilie</td>\n",
       "      <td>female</td>\n",
       "      <td>39.0</td>\n",
       "      <td>0</td>\n",
       "      <td>0</td>\n",
       "      <td>24160</td>\n",
       "      <td>211.3375</td>\n",
       "      <td>NaN</td>\n",
       "      <td>S</td>\n",
       "    </tr>\n",
       "    <tr>\n",
       "      <th>343</th>\n",
       "      <td>1235</td>\n",
       "      <td>1</td>\n",
       "      <td>Cardeza, Mrs. James Warburton Martinez (Charlo...</td>\n",
       "      <td>female</td>\n",
       "      <td>58.0</td>\n",
       "      <td>0</td>\n",
       "      <td>1</td>\n",
       "      <td>PC 17755</td>\n",
       "      <td>512.3292</td>\n",
       "      <td>B51 B53 B55</td>\n",
       "      <td>C</td>\n",
       "    </tr>\n",
       "    <tr>\n",
       "      <th>371</th>\n",
       "      <td>1263</td>\n",
       "      <td>1</td>\n",
       "      <td>Wilson, Miss. Helen Alice</td>\n",
       "      <td>female</td>\n",
       "      <td>31.0</td>\n",
       "      <td>0</td>\n",
       "      <td>0</td>\n",
       "      <td>16966</td>\n",
       "      <td>134.5000</td>\n",
       "      <td>E39 E41</td>\n",
       "      <td>C</td>\n",
       "    </tr>\n",
       "    <tr>\n",
       "      <th>375</th>\n",
       "      <td>1267</td>\n",
       "      <td>1</td>\n",
       "      <td>Bowen, Miss. Grace Scott</td>\n",
       "      <td>female</td>\n",
       "      <td>45.0</td>\n",
       "      <td>0</td>\n",
       "      <td>0</td>\n",
       "      <td>PC 17608</td>\n",
       "      <td>262.3750</td>\n",
       "      <td>NaN</td>\n",
       "      <td>C</td>\n",
       "    </tr>\n",
       "    <tr>\n",
       "      <th>400</th>\n",
       "      <td>1292</td>\n",
       "      <td>1</td>\n",
       "      <td>Bonnell, Miss. Caroline</td>\n",
       "      <td>female</td>\n",
       "      <td>30.0</td>\n",
       "      <td>0</td>\n",
       "      <td>0</td>\n",
       "      <td>36928</td>\n",
       "      <td>164.8667</td>\n",
       "      <td>C7</td>\n",
       "      <td>S</td>\n",
       "    </tr>\n",
       "    <tr>\n",
       "      <th>407</th>\n",
       "      <td>1299</td>\n",
       "      <td>1</td>\n",
       "      <td>Widener, Mr. George Dunton</td>\n",
       "      <td>male</td>\n",
       "      <td>50.0</td>\n",
       "      <td>1</td>\n",
       "      <td>1</td>\n",
       "      <td>113503</td>\n",
       "      <td>211.5000</td>\n",
       "      <td>C80</td>\n",
       "      <td>C</td>\n",
       "    </tr>\n",
       "    <tr>\n",
       "      <th>414</th>\n",
       "      <td>1306</td>\n",
       "      <td>1</td>\n",
       "      <td>Oliva y Ocana, Dona. Fermina</td>\n",
       "      <td>female</td>\n",
       "      <td>39.0</td>\n",
       "      <td>0</td>\n",
       "      <td>0</td>\n",
       "      <td>PC 17758</td>\n",
       "      <td>108.9000</td>\n",
       "      <td>C105</td>\n",
       "      <td>C</td>\n",
       "    </tr>\n",
       "  </tbody>\n",
       "</table>\n",
       "</div>"
      ],
      "text/plain": [
       "     PassengerId  Pclass                                               Name  \\\n",
       "24           916       1    Ryerson, Mrs. Arthur Larned (Emily Maria Borie)   \n",
       "53           945       1                         Fortune, Miss. Ethel Flora   \n",
       "59           951       1                        Chaudanson, Miss. Victorine   \n",
       "64           956       1                        Ryerson, Master. John Borie   \n",
       "69           961       1                Fortune, Mrs. Mark (Mary McDougald)   \n",
       "74           966       1                               Geiger, Miss. Amalie   \n",
       "75           967       1                                 Keeping, Mr. Edwin   \n",
       "81           973       1                                 Straus, Mr. Isidor   \n",
       "114         1006       1             Straus, Mrs. Isidor (Rosalie Ida Blun)   \n",
       "141         1033       1                               Daniels, Miss. Sarah   \n",
       "142         1034       1                         Ryerson, Mr. Arthur Larned   \n",
       "156         1048       1                                  Bird, Miss. Ellen   \n",
       "184         1076       1  Douglas, Mrs. Frederick Charles (Mary Helene B...   \n",
       "196         1088       1                    Spedden, Master. Robert Douglas   \n",
       "202         1094       1                             Astor, Col. John Jacob   \n",
       "217         1109       1                           Wick, Mr. George Dennick   \n",
       "218         1110       1       Widener, Mrs. George Dunton (Eleanor Elkins)   \n",
       "239         1131       1        Douglas, Mrs. Walter Donald (Mahala Dutton)   \n",
       "242         1134       1                       Spedden, Mr. Frederic Oakley   \n",
       "252         1144       1                           Clark, Mr. Walter Miller   \n",
       "272         1164       1      Clark, Mrs. Walter Miller (Virginia McDowell)   \n",
       "306         1198       1               Allison, Mr. Hudson Joshua Creighton   \n",
       "314         1206       1              White, Mrs. John Stuart (Ella Holmes)   \n",
       "316         1208       1                      Spencer, Mr. William Augustus   \n",
       "324         1216       1                             Kreuchen, Miss. Emilie   \n",
       "343         1235       1  Cardeza, Mrs. James Warburton Martinez (Charlo...   \n",
       "371         1263       1                          Wilson, Miss. Helen Alice   \n",
       "375         1267       1                           Bowen, Miss. Grace Scott   \n",
       "400         1292       1                            Bonnell, Miss. Caroline   \n",
       "407         1299       1                         Widener, Mr. George Dunton   \n",
       "414         1306       1                       Oliva y Ocana, Dona. Fermina   \n",
       "\n",
       "        Sex   Age  SibSp  Parch    Ticket      Fare            Cabin Embarked  \n",
       "24   female  48.0      1      3  PC 17608  262.3750  B57 B59 B63 B66        C  \n",
       "53   female  28.0      3      2     19950  263.0000      C23 C25 C27        S  \n",
       "59   female  36.0      0      0  PC 17608  262.3750              B61        C  \n",
       "64     male  13.0      2      2  PC 17608  262.3750  B57 B59 B63 B66        C  \n",
       "69   female  60.0      1      4     19950  263.0000      C23 C25 C27        S  \n",
       "74   female  35.0      0      0    113503  211.5000             C130        C  \n",
       "75     male  32.5      0      0    113503  211.5000             C132        C  \n",
       "81     male  67.0      1      0  PC 17483  221.7792          C55 C57        S  \n",
       "114  female  63.0      1      0  PC 17483  221.7792          C55 C57        S  \n",
       "141  female  33.0      0      0    113781  151.5500              NaN        S  \n",
       "142    male  61.0      1      3  PC 17608  262.3750  B57 B59 B63 B66        C  \n",
       "156  female  29.0      0      0  PC 17483  221.7792              C97        S  \n",
       "184  female  27.0      1      1  PC 17558  247.5208          B58 B60        C  \n",
       "196    male   6.0      0      2     16966  134.5000              E34        C  \n",
       "202    male  47.0      1      0  PC 17757  227.5250          C62 C64        C  \n",
       "217    male  57.0      1      1     36928  164.8667              NaN        S  \n",
       "218  female  50.0      1      1    113503  211.5000              C80        C  \n",
       "239  female  48.0      1      0  PC 17761  106.4250              C86        C  \n",
       "242    male  45.0      1      1     16966  134.5000              E34        C  \n",
       "252    male  27.0      1      0     13508  136.7792              C89        C  \n",
       "272  female  26.0      1      0     13508  136.7792              C89        C  \n",
       "306    male  30.0      1      2    113781  151.5500          C22 C26        S  \n",
       "314  female  55.0      0      0  PC 17760  135.6333              C32        C  \n",
       "316    male  57.0      1      0  PC 17569  146.5208              B78        C  \n",
       "324  female  39.0      0      0     24160  211.3375              NaN        S  \n",
       "343  female  58.0      0      1  PC 17755  512.3292      B51 B53 B55        C  \n",
       "371  female  31.0      0      0     16966  134.5000          E39 E41        C  \n",
       "375  female  45.0      0      0  PC 17608  262.3750              NaN        C  \n",
       "400  female  30.0      0      0     36928  164.8667               C7        S  \n",
       "407    male  50.0      1      1    113503  211.5000              C80        C  \n",
       "414  female  39.0      0      0  PC 17758  108.9000             C105        C  "
      ]
     },
     "execution_count": 20,
     "metadata": {},
     "output_type": "execute_result"
    }
   ],
   "source": [
    "df[df[\"Fare\"]>=106.425]"
   ]
  }
 ],
 "metadata": {
  "kernelspec": {
   "display_name": "Python 3",
   "language": "python",
   "name": "python3"
  },
  "language_info": {
   "codemirror_mode": {
    "name": "ipython",
    "version": 3
   },
   "file_extension": ".py",
   "mimetype": "text/x-python",
   "name": "python",
   "nbconvert_exporter": "python",
   "pygments_lexer": "ipython3",
   "version": "3.6.7"
  }
 },
 "nbformat": 4,
 "nbformat_minor": 2
}
