{
 "cells": [
  {
   "cell_type": "code",
   "execution_count": 1,
   "metadata": {},
   "outputs": [],
   "source": [
    "import pandas as pd\n",
    "import numpy as np\n",
    "import matplotlib.pyplot as plt\n",
    "%matplotlib inline\n",
    "import seaborn as sns"
   ]
  },
  {
   "cell_type": "code",
   "execution_count": 2,
   "metadata": {
    "scrolled": true
   },
   "outputs": [
    {
     "data": {
      "text/html": [
       "<div>\n",
       "<style scoped>\n",
       "    .dataframe tbody tr th:only-of-type {\n",
       "        vertical-align: middle;\n",
       "    }\n",
       "\n",
       "    .dataframe tbody tr th {\n",
       "        vertical-align: top;\n",
       "    }\n",
       "\n",
       "    .dataframe thead th {\n",
       "        text-align: right;\n",
       "    }\n",
       "</style>\n",
       "<table border=\"1\" class=\"dataframe\">\n",
       "  <thead>\n",
       "    <tr style=\"text-align: right;\">\n",
       "      <th></th>\n",
       "      <th>Street</th>\n",
       "      <th>BsmtQual</th>\n",
       "      <th>FireplaceQu</th>\n",
       "      <th>GarageType</th>\n",
       "      <th>SalePrice</th>\n",
       "    </tr>\n",
       "  </thead>\n",
       "  <tbody>\n",
       "    <tr>\n",
       "      <th>0</th>\n",
       "      <td>Pave</td>\n",
       "      <td>Gd</td>\n",
       "      <td>NaN</td>\n",
       "      <td>Attchd</td>\n",
       "      <td>208500</td>\n",
       "    </tr>\n",
       "    <tr>\n",
       "      <th>1</th>\n",
       "      <td>Pave</td>\n",
       "      <td>Gd</td>\n",
       "      <td>TA</td>\n",
       "      <td>Attchd</td>\n",
       "      <td>181500</td>\n",
       "    </tr>\n",
       "    <tr>\n",
       "      <th>2</th>\n",
       "      <td>Pave</td>\n",
       "      <td>Gd</td>\n",
       "      <td>TA</td>\n",
       "      <td>Attchd</td>\n",
       "      <td>223500</td>\n",
       "    </tr>\n",
       "    <tr>\n",
       "      <th>3</th>\n",
       "      <td>Pave</td>\n",
       "      <td>TA</td>\n",
       "      <td>Gd</td>\n",
       "      <td>Detchd</td>\n",
       "      <td>140000</td>\n",
       "    </tr>\n",
       "    <tr>\n",
       "      <th>4</th>\n",
       "      <td>Pave</td>\n",
       "      <td>Gd</td>\n",
       "      <td>TA</td>\n",
       "      <td>Attchd</td>\n",
       "      <td>250000</td>\n",
       "    </tr>\n",
       "  </tbody>\n",
       "</table>\n",
       "</div>"
      ],
      "text/plain": [
       "  Street BsmtQual FireplaceQu GarageType  SalePrice\n",
       "0   Pave       Gd         NaN     Attchd     208500\n",
       "1   Pave       Gd          TA     Attchd     181500\n",
       "2   Pave       Gd          TA     Attchd     223500\n",
       "3   Pave       TA          Gd     Detchd     140000\n",
       "4   Pave       Gd          TA     Attchd     250000"
      ]
     },
     "execution_count": 2,
     "metadata": {},
     "output_type": "execute_result"
    }
   ],
   "source": [
    "df=pd.read_csv('housingtrain.csv', usecols=['BsmtQual', 'FireplaceQu', 'GarageType','SalePrice','Street'])\n",
    "df.head()"
   ]
  },
  {
   "cell_type": "markdown",
   "metadata": {},
   "source": [
    "## \"Rare\" Label Imputation\n",
    "In this technique we see how to deal with labels of a categorical variable which appears rarely. There is no fixed technique to determine the rare labels. However the threshold to deem a label as a rare label must be done after thorough inspection of EDA in terms of response variable variation. In implementing this technique we may encounter three scenarios usually:\n",
    "\n",
    "a.) One predominant Category\n",
    "b.) Small number of Categories\n",
    "c.) Categories with high cardinality"
   ]
  },
  {
   "cell_type": "markdown",
   "metadata": {},
   "source": [
    "## One Predominant Category Label\n",
    "In this scenario we encounter the categorical variable with one dominant labels and other labels of small proportion. The best example is the 'Street' variable. Here we are initially checking the response variable patterns against the labels of the categorical variable. Besides we are checking the value counts in subsequent lines of code. "
   ]
  },
  {
   "cell_type": "code",
   "execution_count": 6,
   "metadata": {
    "scrolled": false
   },
   "outputs": [
    {
     "data": {
      "image/png": "[encoded data removed]",
      "text/plain": [
       "<Figure size 432x288 with 1 Axes>"
      ]
     },
     "metadata": {
      "needs_background": "light"
     },
     "output_type": "display_data"
    }
   ],
   "source": [
    "sns.barplot(x=df['Street'],y=df['SalePrice'])\n",
    "plt.show()"
   ]
  },
  {
   "cell_type": "code",
   "execution_count": 7,
   "metadata": {},
   "outputs": [
    {
     "data": {
      "image/png": "[encoded data removed]",
      "text/plain": [
       "<Figure size 432x288 with 1 Axes>"
      ]
     },
     "metadata": {
      "needs_background": "light"
     },
     "output_type": "display_data"
    }
   ],
   "source": [
    "sns.boxplot(x=df['Street'],y=df['SalePrice'])\n",
    "plt.show()"
   ]
  },
  {
   "cell_type": "code",
   "execution_count": 4,
   "metadata": {
    "scrolled": true
   },
   "outputs": [
    {
     "name": "stdout",
     "output_type": "stream",
     "text": [
      "Street\n",
      "Grvl    130190.500000\n",
      "Pave    181130.538514\n",
      "Name: SalePrice, dtype: float64\n"
     ]
    }
   ],
   "source": [
    " print(df.groupby('Street')['SalePrice'].mean())"
   ]
  },
  {
   "cell_type": "code",
   "execution_count": 5,
   "metadata": {
    "scrolled": true
   },
   "outputs": [
    {
     "name": "stdout",
     "output_type": "stream",
     "text": [
      "Pave    0.99589\n",
      "Grvl    0.00411\n",
      "Name: Street, dtype: float64\n"
     ]
    }
   ],
   "source": [
    "print(df['Street'].value_counts()/len(df))"
   ]
  },
  {
   "cell_type": "code",
   "execution_count": 17,
   "metadata": {},
   "outputs": [
    {
     "data": {
      "text/plain": [
       "['Pave']"
      ]
     },
     "execution_count": 17,
     "metadata": {},
     "output_type": "execute_result"
    }
   ],
   "source": [
    "dom_cat=list()\n",
    "dom_cat.append(df['Street'].value_counts().sort_values(ascending=False).index[0])\n",
    "#dom_cat=list(dom_cat)\n",
    "dom_cat"
   ]
  },
  {
   "cell_type": "code",
   "execution_count": 20,
   "metadata": {},
   "outputs": [],
   "source": [
    "tempdf=df['Street'].value_counts()/len(df)\n",
    "df['Street_dom']=np.where(df['Street'].isin(dom_cat),df['Street'],dom_cat[0])"
   ]
  },
  {
   "cell_type": "code",
   "execution_count": 22,
   "metadata": {},
   "outputs": [
    {
     "data": {
      "text/plain": [
       "Pave    1.0\n",
       "Name: Street_dom, dtype: float64"
      ]
     },
     "execution_count": 22,
     "metadata": {},
     "output_type": "execute_result"
    }
   ],
   "source": [
    "df['Street_dom'].value_counts()/len(df)"
   ]
  },
  {
   "cell_type": "markdown",
   "metadata": {},
   "source": [
    "## Note\n",
    "In the above code we can see that there are just 6 observations where 'Street'='Grvl' and we are replacing it with 'Pave' to avoid overfitting. In this case \"rare\" category substituion does not make any sense as our main goal is to reduce the number of labels with minimal information loss"
   ]
  },
  {
   "cell_type": "markdown",
   "metadata": {},
   "source": [
    "## Small number of Categories"
   ]
  },
  {
   "cell_type": "code",
   "execution_count": 8,
   "metadata": {
    "scrolled": true
   },
   "outputs": [
    {
     "data": {
      "image/png": "[encoded data removed]",
      "text/plain": [
       "<Figure size 432x288 with 1 Axes>"
      ]
     },
     "metadata": {
      "needs_background": "light"
     },
     "output_type": "display_data"
    },
    {
     "data": {
      "image/png": "[encoded data removed]",
      "text/plain": [
       "<Figure size 432x288 with 1 Axes>"
      ]
     },
     "metadata": {
      "needs_background": "light"
     },
     "output_type": "display_data"
    },
    {
     "data": {
      "image/png": "[encoded data removed]",
      "text/plain": [
       "<Figure size 432x288 with 1 Axes>"
      ]
     },
     "metadata": {
      "needs_background": "light"
     },
     "output_type": "display_data"
    }
   ],
   "source": [
    "for col in ['BsmtQual', 'FireplaceQu', 'GarageType']:\n",
    "    sns.barplot(x=df[col],y=df['SalePrice'],)\n",
    "    plt.show()"
   ]
  },
  {
   "cell_type": "code",
   "execution_count": 11,
   "metadata": {},
   "outputs": [
    {
     "name": "stdout",
     "output_type": "stream",
     "text": [
      "BsmtQual\n",
      "Ex    327041.041322\n",
      "Fa    115692.028571\n",
      "Gd    202688.478964\n",
      "TA    140759.818182\n",
      "Name: SalePrice, dtype: float64\n",
      "FireplaceQu\n",
      "Ex    337712.500000\n",
      "Fa    167298.484848\n",
      "Gd    226351.415789\n",
      "Po    129764.150000\n",
      "TA    205723.488818\n",
      "Name: SalePrice, dtype: float64\n",
      "GarageType\n",
      "2Types     151283.333333\n",
      "Attchd     202892.656322\n",
      "Basment    160570.684211\n",
      "BuiltIn    254751.738636\n",
      "CarPort    109962.111111\n",
      "Detchd     134091.162791\n",
      "Name: SalePrice, dtype: float64\n"
     ]
    }
   ],
   "source": [
    "for col in ['BsmtQual', 'FireplaceQu', 'GarageType']:\n",
    "    print(df.groupby(col)['SalePrice'].mean())"
   ]
  },
  {
   "cell_type": "code",
   "execution_count": 10,
   "metadata": {
    "scrolled": true
   },
   "outputs": [
    {
     "name": "stdout",
     "output_type": "stream",
     "text": [
      "TA    0.444521\n",
      "Gd    0.423288\n",
      "Ex    0.082877\n",
      "Fa    0.023973\n",
      "Name: BsmtQual, dtype: float64\n",
      "Gd    0.260274\n",
      "TA    0.214384\n",
      "Fa    0.022603\n",
      "Ex    0.016438\n",
      "Po    0.013699\n",
      "Name: FireplaceQu, dtype: float64\n",
      "Attchd     0.595890\n",
      "Detchd     0.265068\n",
      "BuiltIn    0.060274\n",
      "Basment    0.013014\n",
      "CarPort    0.006164\n",
      "2Types     0.004110\n",
      "Name: GarageType, dtype: float64\n"
     ]
    }
   ],
   "source": [
    "for col in ['BsmtQual', 'FireplaceQu', 'GarageType']:\n",
    "    print(df[col].value_counts()/len(df))"
   ]
  },
  {
   "cell_type": "markdown",
   "metadata": {},
   "source": [
    "## Converting the categories which are present <10% to rare categories\n",
    "In this block of code we will convert the categories which are present less than 10 percent to rare categories. However we must choose the threshold after a thorough inspection in EDA. The rare categories must be grouped only if they have same effect on the response variable. If the response is erratic then the labels must be grouped based on the response pattern"
   ]
  },
  {
   "cell_type": "code",
   "execution_count": 4,
   "metadata": {},
   "outputs": [],
   "source": [
    "for col in ['BsmtQual', 'FireplaceQu', 'GarageType']:\n",
    "    tempdf=df[col].value_counts()/len(df)\n",
    "    rare_cat=[x for x in tempdf.loc[tempdf<=0.10].index.values]\n",
    "    df[col+'_rare']=np.where(df[col].isin(rare_cat),\"rare\",df[col])"
   ]
  },
  {
   "cell_type": "code",
   "execution_count": 5,
   "metadata": {
    "scrolled": false
   },
   "outputs": [
    {
     "name": "stdout",
     "output_type": "stream",
     "text": [
      "TA      0.444521\n",
      "Gd      0.423288\n",
      "rare    0.106849\n",
      "Name: BsmtQual_rare, dtype: float64\n",
      "Gd      0.260274\n",
      "TA      0.214384\n",
      "rare    0.052740\n",
      "Name: FireplaceQu_rare, dtype: float64\n",
      "Attchd    0.595890\n",
      "Detchd    0.265068\n",
      "rare      0.083562\n",
      "Name: GarageType_rare, dtype: float64\n"
     ]
    }
   ],
   "source": [
    "for col in ['BsmtQual_rare','FireplaceQu_rare','GarageType_rare']:\n",
    "            print(df[col].value_counts()/len(df))"
   ]
  },
  {
   "cell_type": "markdown",
   "metadata": {},
   "source": [
    "### Note\n",
    "Here the patterns of the response variables are not taken into account. But if we inspect our EDA in the visualizations we can see that the when 'BsmtQual' an 'FirePlaceQu' is Ex then the mean saleprice is high. Similarly when 'GarageType' is builtin the mean 'SalePrice' is high. So it is better to preserve these labels"
   ]
  },
  {
   "cell_type": "code",
   "execution_count": 12,
   "metadata": {},
   "outputs": [],
   "source": [
    "for col in ['BsmtQual', 'FireplaceQu', 'GarageType']:\n",
    "    tempdf=df[col].value_counts()/len(df)\n",
    "    rare_cat=[x for x in tempdf.loc[tempdf<=0.05].index.values]\n",
    "    df[col+'_rare']=np.where(df[col].isin(rare_cat),\"rare\",df[col])"
   ]
  },
  {
   "cell_type": "code",
   "execution_count": 13,
   "metadata": {},
   "outputs": [
    {
     "name": "stdout",
     "output_type": "stream",
     "text": [
      "TA      0.444521\n",
      "Gd      0.423288\n",
      "Ex      0.082877\n",
      "rare    0.023973\n",
      "Name: BsmtQual_rare, dtype: float64\n",
      "Gd      0.260274\n",
      "TA      0.214384\n",
      "rare    0.052740\n",
      "Name: FireplaceQu_rare, dtype: float64\n",
      "Attchd     0.595890\n",
      "Detchd     0.265068\n",
      "BuiltIn    0.060274\n",
      "rare       0.023288\n",
      "Name: GarageType_rare, dtype: float64\n"
     ]
    }
   ],
   "source": [
    "for col in ['BsmtQual_rare','FireplaceQu_rare','GarageType_rare']:\n",
    "            print(df[col].value_counts()/len(df))"
   ]
  },
  {
   "cell_type": "markdown",
   "metadata": {},
   "source": [
    "### Note\n",
    "In the 'BsmtQual_rare' we can see that the 'Fa' label is replaced by 'rare' which does not make any sense. So we can exempt this column from implementing this substitution with 'rare' categories."
   ]
  },
  {
   "cell_type": "markdown",
   "metadata": {},
   "source": [
    "## High Cardinality\n",
    "In this scenario we have categorical variables which has high cardinality meaning high labels and this is the case where our technique of \"rare\" value imputation comes to rescue. However as discussed before we need to substitute the rare labels only after carefully checking the patterns with the target variable."
   ]
  },
  {
   "cell_type": "code",
   "execution_count": 24,
   "metadata": {
    "scrolled": true
   },
   "outputs": [
    {
     "data": {
      "text/html": [
       "<div>\n",
       "<style scoped>\n",
       "    .dataframe tbody tr th:only-of-type {\n",
       "        vertical-align: middle;\n",
       "    }\n",
       "\n",
       "    .dataframe tbody tr th {\n",
       "        vertical-align: top;\n",
       "    }\n",
       "\n",
       "    .dataframe thead th {\n",
       "        text-align: right;\n",
       "    }\n",
       "</style>\n",
       "<table border=\"1\" class=\"dataframe\">\n",
       "  <thead>\n",
       "    <tr style=\"text-align: right;\">\n",
       "      <th></th>\n",
       "      <th>y</th>\n",
       "      <th>X1</th>\n",
       "      <th>X2</th>\n",
       "      <th>X3</th>\n",
       "      <th>X6</th>\n",
       "    </tr>\n",
       "  </thead>\n",
       "  <tbody>\n",
       "    <tr>\n",
       "      <th>0</th>\n",
       "      <td>130.81</td>\n",
       "      <td>v</td>\n",
       "      <td>at</td>\n",
       "      <td>a</td>\n",
       "      <td>j</td>\n",
       "    </tr>\n",
       "    <tr>\n",
       "      <th>1</th>\n",
       "      <td>88.53</td>\n",
       "      <td>t</td>\n",
       "      <td>av</td>\n",
       "      <td>e</td>\n",
       "      <td>l</td>\n",
       "    </tr>\n",
       "    <tr>\n",
       "      <th>2</th>\n",
       "      <td>76.26</td>\n",
       "      <td>w</td>\n",
       "      <td>n</td>\n",
       "      <td>c</td>\n",
       "      <td>j</td>\n",
       "    </tr>\n",
       "    <tr>\n",
       "      <th>3</th>\n",
       "      <td>80.62</td>\n",
       "      <td>t</td>\n",
       "      <td>n</td>\n",
       "      <td>f</td>\n",
       "      <td>l</td>\n",
       "    </tr>\n",
       "    <tr>\n",
       "      <th>4</th>\n",
       "      <td>78.02</td>\n",
       "      <td>v</td>\n",
       "      <td>n</td>\n",
       "      <td>f</td>\n",
       "      <td>d</td>\n",
       "    </tr>\n",
       "  </tbody>\n",
       "</table>\n",
       "</div>"
      ],
      "text/plain": [
       "        y X1  X2 X3 X6\n",
       "0  130.81  v  at  a  j\n",
       "1   88.53  t  av  e  l\n",
       "2   76.26  w   n  c  j\n",
       "3   80.62  t   n  f  l\n",
       "4   78.02  v   n  f  d"
      ]
     },
     "execution_count": 24,
     "metadata": {},
     "output_type": "execute_result"
    }
   ],
   "source": [
    "df=pd.read_csv('merctrain.csv',usecols=['X1','X2','X3','X6','y'])\n",
    "df.head()"
   ]
  },
  {
   "cell_type": "code",
   "execution_count": 27,
   "metadata": {
    "scrolled": true
   },
   "outputs": [
    {
     "name": "stdout",
     "output_type": "stream",
     "text": [
      "aa    0.197909\n",
      "s     0.142077\n",
      "b     0.140651\n",
      "l     0.140176\n",
      "v     0.096935\n",
      "r     0.059634\n",
      "i     0.048230\n",
      "a     0.033975\n",
      "c     0.028748\n",
      "o     0.019482\n",
      "w     0.012354\n",
      "z     0.010929\n",
      "u     0.008791\n",
      "e     0.007840\n",
      "m     0.007603\n",
      "t     0.007365\n",
      "h     0.006890\n",
      "f     0.005464\n",
      "y     0.005464\n",
      "j     0.005227\n",
      "n     0.004514\n",
      "k     0.004039\n",
      "p     0.002138\n",
      "g     0.001426\n",
      "ab    0.000713\n",
      "q     0.000713\n",
      "d     0.000713\n",
      "Name: X1, dtype: float64\n",
      "as    0.394155\n",
      "ae    0.117843\n",
      "ai    0.098598\n",
      "m     0.087194\n",
      "ak    0.062960\n",
      "r     0.036351\n",
      "n     0.032549\n",
      "s     0.022333\n",
      "f     0.020670\n",
      "e     0.019244\n",
      "aq    0.014968\n",
      "ay    0.012830\n",
      "a     0.011167\n",
      "t     0.006890\n",
      "k     0.005940\n",
      "i     0.005940\n",
      "b     0.004989\n",
      "ao    0.004752\n",
      "ag    0.004514\n",
      "z     0.004514\n",
      "d     0.004277\n",
      "ac    0.003089\n",
      "g     0.002851\n",
      "ap    0.002613\n",
      "y     0.002613\n",
      "x     0.002376\n",
      "aw    0.001901\n",
      "at    0.001426\n",
      "h     0.001426\n",
      "al    0.001188\n",
      "q     0.001188\n",
      "an    0.001188\n",
      "av    0.000950\n",
      "p     0.000950\n",
      "ah    0.000950\n",
      "au    0.000713\n",
      "af    0.000238\n",
      "aa    0.000238\n",
      "l     0.000238\n",
      "o     0.000238\n",
      "ar    0.000238\n",
      "c     0.000238\n",
      "am    0.000238\n",
      "j     0.000238\n",
      "Name: X2, dtype: float64\n",
      "c    0.461392\n",
      "f    0.255643\n",
      "a    0.104538\n",
      "d    0.068900\n",
      "g    0.057258\n",
      "e    0.038727\n",
      "b    0.013542\n",
      "Name: X3, dtype: float64\n",
      "g    0.247565\n",
      "j    0.246852\n",
      "d    0.148491\n",
      "i    0.115942\n",
      "l    0.113566\n",
      "a    0.048943\n",
      "h    0.045141\n",
      "k    0.010216\n",
      "c    0.009028\n",
      "b    0.006652\n",
      "f    0.004752\n",
      "e    0.002851\n",
      "Name: X6, dtype: float64\n"
     ]
    }
   ],
   "source": [
    "for col in ['X1','X2','X3','X6']:\n",
    "    print(df[col].value_counts()/len(df))"
   ]
  },
  {
   "cell_type": "code",
   "execution_count": 30,
   "metadata": {
    "scrolled": true
   },
   "outputs": [
    {
     "data": {
      "image/png": "[encoded data removed]",
      "text/plain": [
       "<Figure size 432x288 with 1 Axes>"
      ]
     },
     "metadata": {
      "needs_background": "light"
     },
     "output_type": "display_data"
    },
    {
     "data": {
      "image/png": "[encoded data removed]",
      "text/plain": [
       "<Figure size 432x288 with 1 Axes>"
      ]
     },
     "metadata": {
      "needs_background": "light"
     },
     "output_type": "display_data"
    },
    {
     "data": {
      "image/png": "[encoded data removed]",
      "text/plain": [
       "<Figure size 432x288 with 1 Axes>"
      ]
     },
     "metadata": {
      "needs_background": "light"
     },
     "output_type": "display_data"
    },
    {
     "data": {
      "image/png": "[encoded data removed]",
      "text/plain": [
       "<Figure size 432x288 with 1 Axes>"
      ]
     },
     "metadata": {
      "needs_background": "light"
     },
     "output_type": "display_data"
    }
   ],
   "source": [
    "for col in ['X1','X2','X3','X6']:\n",
    "    sns.countplot(df[col],order = df[col].value_counts().index)\n",
    "    plt.show()"
   ]
  },
  {
   "cell_type": "code",
   "execution_count": 32,
   "metadata": {},
   "outputs": [],
   "source": [
    "for col in ['X1','X2','X3','X6']:\n",
    "    tempdf=df[col].value_counts()/len(df)\n",
    "    dom_cat=[x for x in tempdf.loc[tempdf>0.10].index.values]\n",
    "    df[col+'_rare']=np.where(df[col].isin(dom_cat),df[col],\"rare\")"
   ]
  },
  {
   "cell_type": "code",
   "execution_count": 33,
   "metadata": {
    "scrolled": true
   },
   "outputs": [
    {
     "data": {
      "text/html": [
       "<div>\n",
       "<style scoped>\n",
       "    .dataframe tbody tr th:only-of-type {\n",
       "        vertical-align: middle;\n",
       "    }\n",
       "\n",
       "    .dataframe tbody tr th {\n",
       "        vertical-align: top;\n",
       "    }\n",
       "\n",
       "    .dataframe thead th {\n",
       "        text-align: right;\n",
       "    }\n",
       "</style>\n",
       "<table border=\"1\" class=\"dataframe\">\n",
       "  <thead>\n",
       "    <tr style=\"text-align: right;\">\n",
       "      <th></th>\n",
       "      <th>y</th>\n",
       "      <th>X1</th>\n",
       "      <th>X2</th>\n",
       "      <th>X3</th>\n",
       "      <th>X6</th>\n",
       "      <th>X1_rare</th>\n",
       "      <th>X2_rare</th>\n",
       "      <th>X3_rare</th>\n",
       "      <th>X6_rare</th>\n",
       "    </tr>\n",
       "  </thead>\n",
       "  <tbody>\n",
       "    <tr>\n",
       "      <th>0</th>\n",
       "      <td>130.81</td>\n",
       "      <td>v</td>\n",
       "      <td>at</td>\n",
       "      <td>a</td>\n",
       "      <td>j</td>\n",
       "      <td>rare</td>\n",
       "      <td>rare</td>\n",
       "      <td>a</td>\n",
       "      <td>j</td>\n",
       "    </tr>\n",
       "    <tr>\n",
       "      <th>1</th>\n",
       "      <td>88.53</td>\n",
       "      <td>t</td>\n",
       "      <td>av</td>\n",
       "      <td>e</td>\n",
       "      <td>l</td>\n",
       "      <td>rare</td>\n",
       "      <td>rare</td>\n",
       "      <td>rare</td>\n",
       "      <td>l</td>\n",
       "    </tr>\n",
       "    <tr>\n",
       "      <th>2</th>\n",
       "      <td>76.26</td>\n",
       "      <td>w</td>\n",
       "      <td>n</td>\n",
       "      <td>c</td>\n",
       "      <td>j</td>\n",
       "      <td>rare</td>\n",
       "      <td>rare</td>\n",
       "      <td>c</td>\n",
       "      <td>j</td>\n",
       "    </tr>\n",
       "    <tr>\n",
       "      <th>3</th>\n",
       "      <td>80.62</td>\n",
       "      <td>t</td>\n",
       "      <td>n</td>\n",
       "      <td>f</td>\n",
       "      <td>l</td>\n",
       "      <td>rare</td>\n",
       "      <td>rare</td>\n",
       "      <td>f</td>\n",
       "      <td>l</td>\n",
       "    </tr>\n",
       "    <tr>\n",
       "      <th>4</th>\n",
       "      <td>78.02</td>\n",
       "      <td>v</td>\n",
       "      <td>n</td>\n",
       "      <td>f</td>\n",
       "      <td>d</td>\n",
       "      <td>rare</td>\n",
       "      <td>rare</td>\n",
       "      <td>f</td>\n",
       "      <td>d</td>\n",
       "    </tr>\n",
       "  </tbody>\n",
       "</table>\n",
       "</div>"
      ],
      "text/plain": [
       "        y X1  X2 X3 X6 X1_rare X2_rare X3_rare X6_rare\n",
       "0  130.81  v  at  a  j    rare    rare       a       j\n",
       "1   88.53  t  av  e  l    rare    rare    rare       l\n",
       "2   76.26  w   n  c  j    rare    rare       c       j\n",
       "3   80.62  t   n  f  l    rare    rare       f       l\n",
       "4   78.02  v   n  f  d    rare    rare       f       d"
      ]
     },
     "execution_count": 33,
     "metadata": {},
     "output_type": "execute_result"
    }
   ],
   "source": [
    "df.head()"
   ]
  },
  {
   "cell_type": "code",
   "execution_count": 34,
   "metadata": {
    "scrolled": false
   },
   "outputs": [
    {
     "name": "stdout",
     "output_type": "stream",
     "text": [
      "rare    0.379187\n",
      "aa      0.197909\n",
      "s       0.142077\n",
      "b       0.140651\n",
      "l       0.140176\n",
      "Name: X1_rare, dtype: float64\n",
      "rare    0.488002\n",
      "as      0.394155\n",
      "ae      0.117843\n",
      "Name: X2_rare, dtype: float64\n",
      "c       0.461392\n",
      "f       0.255643\n",
      "rare    0.178427\n",
      "a       0.104538\n",
      "Name: X3_rare, dtype: float64\n",
      "g       0.247565\n",
      "j       0.246852\n",
      "d       0.148491\n",
      "rare    0.127584\n",
      "i       0.115942\n",
      "l       0.113566\n",
      "Name: X6_rare, dtype: float64\n"
     ]
    }
   ],
   "source": [
    "for col in ['X1_rare','X2_rare','X3_rare','X6_rare']:\n",
    "    print(df[col].value_counts()/len(df))"
   ]
  },
  {
   "cell_type": "markdown",
   "metadata": {},
   "source": [
    "## Note\n",
    "From the above code we can infer that even for the categorical values which has more than 50 categories by grouping the labels which are present less than 10 percent as rare labels we have reduced the cardinality of the variable very effectively. This will be materialistic in terms of feature engineering and model performance"
   ]
  }
 ],
 "metadata": {
  "kernelspec": {
   "display_name": "Python 3",
   "language": "python",
   "name": "python3"
  },
  "language_info": {
   "codemirror_mode": {
    "name": "ipython",
    "version": 3
   },
   "file_extension": ".py",
   "mimetype": "text/x-python",
   "name": "python",
   "nbconvert_exporter": "python",
   "pygments_lexer": "ipython3",
   "version": "3.6.7"
  }
 },
 "nbformat": 4,
 "nbformat_minor": 2
}
